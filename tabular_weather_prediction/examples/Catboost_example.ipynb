{
 "cells": [
  {
   "cell_type": "code",
   "execution_count": 1,
   "metadata": {},
   "outputs": [],
   "source": [
    "import catboost\n",
    "import pandas as pd"
   ]
  },
  {
   "cell_type": "code",
   "execution_count": 2,
   "metadata": {},
   "outputs": [
    {
     "data": {
      "text/html": [
       "<div>\n",
       "<style scoped>\n",
       "    .dataframe tbody tr th:only-of-type {\n",
       "        vertical-align: middle;\n",
       "    }\n",
       "\n",
       "    .dataframe tbody tr th {\n",
       "        vertical-align: top;\n",
       "    }\n",
       "\n",
       "    .dataframe thead th {\n",
       "        text-align: right;\n",
       "    }\n",
       "</style>\n",
       "<table border=\"1\" class=\"dataframe\">\n",
       "  <thead>\n",
       "    <tr style=\"text-align: right;\">\n",
       "      <th></th>\n",
       "      <th>fact_time</th>\n",
       "      <th>fact_temperature</th>\n",
       "      <th>fact_cwsm_class</th>\n",
       "      <th>topography_bathymetry</th>\n",
       "      <th>sun_elevation</th>\n",
       "      <th>climate_temperature</th>\n",
       "      <th>climate_pressure</th>\n",
       "      <th>cmc_0_0_0_1000</th>\n",
       "      <th>cmc_0_0_0_2_grad</th>\n",
       "      <th>cmc_0_0_0_2_interpolated</th>\n",
       "      <th>...</th>\n",
       "      <th>cmc_0_1_66_0_grad</th>\n",
       "      <th>cmc_0_1_66_0_next</th>\n",
       "      <th>cmc_0_1_67_0_grad</th>\n",
       "      <th>cmc_0_1_67_0_next</th>\n",
       "      <th>cmc_0_1_68_0_grad</th>\n",
       "      <th>cmc_0_1_68_0_next</th>\n",
       "      <th>gfs_2m_dewpoint_grad</th>\n",
       "      <th>gfs_2m_dewpoint_next</th>\n",
       "      <th>gfs_total_clouds_cover_low_grad</th>\n",
       "      <th>gfs_total_clouds_cover_low_next</th>\n",
       "    </tr>\n",
       "  </thead>\n",
       "  <tbody>\n",
       "    <tr>\n",
       "      <th>0</th>\n",
       "      <td>1546235640</td>\n",
       "      <td>-1.0</td>\n",
       "      <td>0.0</td>\n",
       "      <td>233.0</td>\n",
       "      <td>-69.005015</td>\n",
       "      <td>-2.100714</td>\n",
       "      <td>744.142216</td>\n",
       "      <td>273.668750</td>\n",
       "      <td>-1.026855</td>\n",
       "      <td>270.473242</td>\n",
       "      <td>...</td>\n",
       "      <td>0.000000</td>\n",
       "      <td>0.00000</td>\n",
       "      <td>0.0</td>\n",
       "      <td>0.0</td>\n",
       "      <td>0.0</td>\n",
       "      <td>0.0000</td>\n",
       "      <td>0.600006</td>\n",
       "      <td>-3.049994</td>\n",
       "      <td>0.0</td>\n",
       "      <td>0.0</td>\n",
       "    </tr>\n",
       "    <tr>\n",
       "      <th>1</th>\n",
       "      <td>1546246800</td>\n",
       "      <td>-4.0</td>\n",
       "      <td>0.0</td>\n",
       "      <td>1115.0</td>\n",
       "      <td>18.247833</td>\n",
       "      <td>-5.650000</td>\n",
       "      <td>674.481747</td>\n",
       "      <td>276.918750</td>\n",
       "      <td>-6.305103</td>\n",
       "      <td>267.294434</td>\n",
       "      <td>...</td>\n",
       "      <td>0.000000</td>\n",
       "      <td>0.00000</td>\n",
       "      <td>0.0</td>\n",
       "      <td>0.0</td>\n",
       "      <td>0.0</td>\n",
       "      <td>0.0000</td>\n",
       "      <td>0.000000</td>\n",
       "      <td>-20.049994</td>\n",
       "      <td>0.0</td>\n",
       "      <td>0.0</td>\n",
       "    </tr>\n",
       "    <tr>\n",
       "      <th>2</th>\n",
       "      <td>1546257600</td>\n",
       "      <td>23.0</td>\n",
       "      <td>21.0</td>\n",
       "      <td>100.0</td>\n",
       "      <td>39.512251</td>\n",
       "      <td>24.720714</td>\n",
       "      <td>752.775041</td>\n",
       "      <td>297.457642</td>\n",
       "      <td>2.026587</td>\n",
       "      <td>297.439331</td>\n",
       "      <td>...</td>\n",
       "      <td>0.000000</td>\n",
       "      <td>0.00000</td>\n",
       "      <td>0.0</td>\n",
       "      <td>0.0</td>\n",
       "      <td>0.0</td>\n",
       "      <td>0.0000</td>\n",
       "      <td>-0.699982</td>\n",
       "      <td>23.650018</td>\n",
       "      <td>2.0</td>\n",
       "      <td>3.0</td>\n",
       "    </tr>\n",
       "    <tr>\n",
       "      <th>3</th>\n",
       "      <td>1546276500</td>\n",
       "      <td>-1.0</td>\n",
       "      <td>20.0</td>\n",
       "      <td>369.0</td>\n",
       "      <td>20.003954</td>\n",
       "      <td>-12.332143</td>\n",
       "      <td>730.694295</td>\n",
       "      <td>268.806470</td>\n",
       "      <td>1.895337</td>\n",
       "      <td>270.848641</td>\n",
       "      <td>...</td>\n",
       "      <td>0.219312</td>\n",
       "      <td>2.56235</td>\n",
       "      <td>0.0</td>\n",
       "      <td>0.0</td>\n",
       "      <td>0.0</td>\n",
       "      <td>0.0015</td>\n",
       "      <td>1.500000</td>\n",
       "      <td>-1.549994</td>\n",
       "      <td>-1.0</td>\n",
       "      <td>92.0</td>\n",
       "    </tr>\n",
       "    <tr>\n",
       "      <th>4</th>\n",
       "      <td>1546279200</td>\n",
       "      <td>32.0</td>\n",
       "      <td>20.0</td>\n",
       "      <td>14.0</td>\n",
       "      <td>-2.483327</td>\n",
       "      <td>28.745000</td>\n",
       "      <td>744.973269</td>\n",
       "      <td>303.427393</td>\n",
       "      <td>-2.818262</td>\n",
       "      <td>300.251953</td>\n",
       "      <td>...</td>\n",
       "      <td>0.000000</td>\n",
       "      <td>0.00000</td>\n",
       "      <td>0.0</td>\n",
       "      <td>0.0</td>\n",
       "      <td>0.0</td>\n",
       "      <td>0.0000</td>\n",
       "      <td>-0.716553</td>\n",
       "      <td>21.350000</td>\n",
       "      <td>-1.0</td>\n",
       "      <td>0.0</td>\n",
       "    </tr>\n",
       "  </tbody>\n",
       "</table>\n",
       "<p>5 rows × 126 columns</p>\n",
       "</div>"
      ],
      "text/plain": [
       "    fact_time  fact_temperature  fact_cwsm_class  topography_bathymetry  \\\n",
       "0  1546235640              -1.0              0.0                  233.0   \n",
       "1  1546246800              -4.0              0.0                 1115.0   \n",
       "2  1546257600              23.0             21.0                  100.0   \n",
       "3  1546276500              -1.0             20.0                  369.0   \n",
       "4  1546279200              32.0             20.0                   14.0   \n",
       "\n",
       "   sun_elevation  climate_temperature  climate_pressure  cmc_0_0_0_1000  \\\n",
       "0     -69.005015            -2.100714        744.142216      273.668750   \n",
       "1      18.247833            -5.650000        674.481747      276.918750   \n",
       "2      39.512251            24.720714        752.775041      297.457642   \n",
       "3      20.003954           -12.332143        730.694295      268.806470   \n",
       "4      -2.483327            28.745000        744.973269      303.427393   \n",
       "\n",
       "   cmc_0_0_0_2_grad  cmc_0_0_0_2_interpolated  ...  cmc_0_1_66_0_grad  \\\n",
       "0         -1.026855                270.473242  ...           0.000000   \n",
       "1         -6.305103                267.294434  ...           0.000000   \n",
       "2          2.026587                297.439331  ...           0.000000   \n",
       "3          1.895337                270.848641  ...           0.219312   \n",
       "4         -2.818262                300.251953  ...           0.000000   \n",
       "\n",
       "   cmc_0_1_66_0_next  cmc_0_1_67_0_grad  cmc_0_1_67_0_next  cmc_0_1_68_0_grad  \\\n",
       "0            0.00000                0.0                0.0                0.0   \n",
       "1            0.00000                0.0                0.0                0.0   \n",
       "2            0.00000                0.0                0.0                0.0   \n",
       "3            2.56235                0.0                0.0                0.0   \n",
       "4            0.00000                0.0                0.0                0.0   \n",
       "\n",
       "   cmc_0_1_68_0_next  gfs_2m_dewpoint_grad  gfs_2m_dewpoint_next  \\\n",
       "0             0.0000              0.600006             -3.049994   \n",
       "1             0.0000              0.000000            -20.049994   \n",
       "2             0.0000             -0.699982             23.650018   \n",
       "3             0.0015              1.500000             -1.549994   \n",
       "4             0.0000             -0.716553             21.350000   \n",
       "\n",
       "   gfs_total_clouds_cover_low_grad  gfs_total_clouds_cover_low_next  \n",
       "0                              0.0                              0.0  \n",
       "1                              0.0                              0.0  \n",
       "2                              2.0                              3.0  \n",
       "3                             -1.0                             92.0  \n",
       "4                             -1.0                              0.0  \n",
       "\n",
       "[5 rows x 126 columns]"
      ]
     },
     "execution_count": 2,
     "metadata": {},
     "output_type": "execute_result"
    }
   ],
   "source": [
    "# read limited nrows to do it faster\n",
    "df = pd.read_csv('df_multiclass_temperature_latlons.csv', nrows=1000000)\n",
    "df.head()"
   ]
  },
  {
   "cell_type": "code",
   "execution_count": 3,
   "metadata": {},
   "outputs": [
    {
     "data": {
      "text/plain": [
       "(1000000, 126)"
      ]
     },
     "execution_count": 3,
     "metadata": {},
     "output_type": "execute_result"
    }
   ],
   "source": [
    "df.shape"
   ]
  },
  {
   "cell_type": "code",
   "execution_count": 4,
   "metadata": {},
   "outputs": [],
   "source": [
    "# three first columns are timestamp, fact_temperature and fact_cwsm_class\n",
    "X = df.iloc[:700000, 3:-1]\n",
    "y_multiclass = df['fact_cwsm_class'][:700000]\n",
    "y_temperature = df['fact_temperature'][:700000]\n",
    "\n",
    "X_test = df.iloc[700000:,3:-1]\n",
    "y_multiclass_test = df['fact_cwsm_class'][700000:]\n",
    "y_temperature_test = df['fact_temperature'][700000:]"
   ]
  },
  {
   "cell_type": "code",
   "execution_count": 5,
   "metadata": {},
   "outputs": [],
   "source": [
    "model_multiclass = catboost.CatBoostClassifier(\n",
    "    iterations=1000,\n",
    "    depth=3,  \n",
    "    loss_function='MultiClass',\n",
    "    eval_metric='Accuracy')"
   ]
  },
  {
   "cell_type": "code",
   "execution_count": 6,
   "metadata": {
    "scrolled": false
   },
   "outputs": [
    {
     "name": "stdout",
     "output_type": "stream",
     "text": [
      "Learning rate set to 0.123092\n",
      "0:\tlearn: 0.4703471\ttest: 0.4863333\tbest: 0.4863333 (0)\ttotal: 411ms\tremaining: 6m 50s\n",
      "50:\tlearn: 0.5406629\ttest: 0.5407300\tbest: 0.5407300 (50)\ttotal: 16.3s\tremaining: 5m 2s\n",
      "100:\tlearn: 0.5517543\ttest: 0.5476733\tbest: 0.5476733 (100)\ttotal: 31.3s\tremaining: 4m 38s\n",
      "150:\tlearn: 0.5585486\ttest: 0.5521533\tbest: 0.5521533 (150)\ttotal: 45.8s\tremaining: 4m 17s\n",
      "200:\tlearn: 0.5636829\ttest: 0.5550933\tbest: 0.5551733 (199)\ttotal: 1m\tremaining: 3m 59s\n",
      "250:\tlearn: 0.5673629\ttest: 0.5565300\tbest: 0.5565400 (247)\ttotal: 1m 14s\tremaining: 3m 43s\n",
      "300:\tlearn: 0.5697786\ttest: 0.5582000\tbest: 0.5582867 (298)\ttotal: 1m 29s\tremaining: 3m 27s\n",
      "350:\tlearn: 0.5724029\ttest: 0.5589567\tbest: 0.5590833 (338)\ttotal: 1m 43s\tremaining: 3m 12s\n",
      "400:\tlearn: 0.5741814\ttest: 0.5597600\tbest: 0.5597600 (400)\ttotal: 1m 58s\tremaining: 2m 56s\n",
      "450:\tlearn: 0.5759629\ttest: 0.5604367\tbest: 0.5605100 (449)\ttotal: 2m 13s\tremaining: 2m 41s\n",
      "500:\tlearn: 0.5775986\ttest: 0.5610700\tbest: 0.5612033 (496)\ttotal: 2m 27s\tremaining: 2m 26s\n",
      "550:\tlearn: 0.5792729\ttest: 0.5616233\tbest: 0.5617800 (547)\ttotal: 2m 41s\tremaining: 2m 11s\n",
      "600:\tlearn: 0.5804386\ttest: 0.5620400\tbest: 0.5621300 (573)\ttotal: 2m 55s\tremaining: 1m 56s\n",
      "650:\tlearn: 0.5817657\ttest: 0.5627967\tbest: 0.5627967 (650)\ttotal: 3m 9s\tremaining: 1m 41s\n",
      "700:\tlearn: 0.5827929\ttest: 0.5630067\tbest: 0.5630867 (697)\ttotal: 3m 24s\tremaining: 1m 27s\n",
      "750:\tlearn: 0.5839571\ttest: 0.5633867\tbest: 0.5634467 (737)\ttotal: 3m 38s\tremaining: 1m 12s\n",
      "800:\tlearn: 0.5849214\ttest: 0.5636933\tbest: 0.5637100 (799)\ttotal: 3m 52s\tremaining: 57.9s\n",
      "850:\tlearn: 0.5858486\ttest: 0.5641133\tbest: 0.5641133 (850)\ttotal: 4m 7s\tremaining: 43.3s\n",
      "900:\tlearn: 0.5867229\ttest: 0.5646567\tbest: 0.5646567 (900)\ttotal: 4m 21s\tremaining: 28.7s\n",
      "950:\tlearn: 0.5876029\ttest: 0.5649767\tbest: 0.5649767 (949)\ttotal: 4m 35s\tremaining: 14.2s\n",
      "999:\tlearn: 0.5882771\ttest: 0.5647333\tbest: 0.5651500 (977)\ttotal: 4m 49s\tremaining: 0us\n",
      "\n",
      "bestTest = 0.56515\n",
      "bestIteration = 977\n",
      "\n",
      "Shrink model to first 978 iterations.\n"
     ]
    },
    {
     "data": {
      "text/plain": [
       "<catboost.core.CatBoostClassifier at 0x7f78af4afc10>"
      ]
     },
     "execution_count": 6,
     "metadata": {},
     "output_type": "execute_result"
    }
   ],
   "source": [
    "model_multiclass.fit(X, y_multiclass, verbose=50, eval_set=(X_test, y_multiclass_test))"
   ]
  },
  {
   "cell_type": "code",
   "execution_count": 7,
   "metadata": {},
   "outputs": [
    {
     "name": "stdout",
     "output_type": "stream",
     "text": [
      "Learning rate set to 0.158932\n",
      "0:\tlearn: 9.6369386\ttest: 12.3291732\tbest: 12.3291732 (0)\ttotal: 59.7ms\tremaining: 59.7s\n",
      "50:\tlearn: 2.5765855\ttest: 2.7542641\tbest: 2.7542641 (50)\ttotal: 2.66s\tremaining: 49.5s\n",
      "100:\tlearn: 2.3991266\ttest: 2.5919279\tbest: 2.5919279 (100)\ttotal: 5.31s\tremaining: 47.3s\n",
      "150:\tlearn: 2.3227279\ttest: 2.5203140\tbest: 2.5203140 (150)\ttotal: 7.88s\tremaining: 44.3s\n",
      "200:\tlearn: 2.2743056\ttest: 2.4781697\tbest: 2.4781697 (200)\ttotal: 10.5s\tremaining: 41.8s\n",
      "250:\tlearn: 2.2418797\ttest: 2.4510107\tbest: 2.4510107 (250)\ttotal: 13.1s\tremaining: 39.1s\n",
      "300:\tlearn: 2.2151919\ttest: 2.4282560\tbest: 2.4282560 (300)\ttotal: 15.7s\tremaining: 36.4s\n",
      "350:\tlearn: 2.1954724\ttest: 2.4126463\tbest: 2.4126463 (350)\ttotal: 18.2s\tremaining: 33.7s\n",
      "400:\tlearn: 2.1787387\ttest: 2.4001163\tbest: 2.4001163 (400)\ttotal: 20.9s\tremaining: 31.2s\n",
      "450:\tlearn: 2.1656923\ttest: 2.3910880\tbest: 2.3910880 (450)\ttotal: 23.3s\tremaining: 28.4s\n",
      "500:\tlearn: 2.1521877\ttest: 2.3804420\tbest: 2.3804420 (500)\ttotal: 26s\tremaining: 25.8s\n",
      "550:\tlearn: 2.1398942\ttest: 2.3744735\tbest: 2.3744735 (550)\ttotal: 28.6s\tremaining: 23.3s\n",
      "600:\tlearn: 2.1292533\ttest: 2.3668575\tbest: 2.3668575 (600)\ttotal: 31.2s\tremaining: 20.7s\n",
      "650:\tlearn: 2.1197092\ttest: 2.3632882\tbest: 2.3632882 (650)\ttotal: 33.8s\tremaining: 18.1s\n",
      "700:\tlearn: 2.1116163\ttest: 2.3583458\tbest: 2.3582706 (699)\ttotal: 36.3s\tremaining: 15.5s\n",
      "750:\tlearn: 2.1037291\ttest: 2.3537710\tbest: 2.3537710 (750)\ttotal: 38.8s\tremaining: 12.9s\n",
      "800:\tlearn: 2.0964256\ttest: 2.3489540\tbest: 2.3487854 (799)\ttotal: 41.4s\tremaining: 10.3s\n",
      "850:\tlearn: 2.0896744\ttest: 2.3451440\tbest: 2.3451440 (850)\ttotal: 44s\tremaining: 7.71s\n",
      "900:\tlearn: 2.0830824\ttest: 2.3426620\tbest: 2.3426620 (900)\ttotal: 46.6s\tremaining: 5.12s\n",
      "950:\tlearn: 2.0774651\ttest: 2.3409051\tbest: 2.3408295 (948)\ttotal: 49.2s\tremaining: 2.53s\n",
      "999:\tlearn: 2.0720640\ttest: 2.3384145\tbest: 2.3384145 (999)\ttotal: 51.6s\tremaining: 0us\n",
      "\n",
      "bestTest = 2.338414545\n",
      "bestIteration = 999\n",
      "\n"
     ]
    },
    {
     "data": {
      "text/plain": [
       "<catboost.core.CatBoostRegressor at 0x7f78af4aff90>"
      ]
     },
     "execution_count": 7,
     "metadata": {},
     "output_type": "execute_result"
    }
   ],
   "source": [
    "model_temperature = catboost.CatBoostRegressor(\n",
    "    iterations=1000,\n",
    "    depth=3,\n",
    "    eval_metric='RMSE')\n",
    "\n",
    "model_temperature.fit(X, y_temperature, verbose=50, eval_set=(X_test, y_temperature_test))"
   ]
  }
 ],
 "metadata": {
  "kernelspec": {
   "display_name": "Python 2",
   "language": "python",
   "name": "python2"
  },
  "language_info": {
   "codemirror_mode": {
    "name": "ipython",
    "version": 2
   },
   "file_extension": ".py",
   "mimetype": "text/x-python",
   "name": "python",
   "nbconvert_exporter": "python",
   "pygments_lexer": "ipython2",
   "version": "2.7.17"
  },
  "pycharm": {
   "stem_cell": {
    "cell_type": "raw",
    "source": [],
    "metadata": {
     "collapsed": false
    }
   }
  }
 },
 "nbformat": 4,
 "nbformat_minor": 2
}