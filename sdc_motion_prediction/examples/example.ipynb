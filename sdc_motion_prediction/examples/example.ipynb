{
 "cells": [
  {
   "cell_type": "code",
   "execution_count": 1,
   "id": "f80e1524",
   "metadata": {},
   "outputs": [],
   "source": [
    "import cv2\n",
    "import matplotlib.pyplot as plt\n",
    "import numpy as np\n",
    "import torch\n",
    "\n",
    "from ysdc_dataset_api.dataset import MotionPredictionDataset\n",
    "from ysdc_dataset_api.utils import get_file_paths, scenes_generator, transform2dpoints"
   ]
  },
  {
   "cell_type": "markdown",
   "id": "03d08e20",
   "metadata": {},
   "source": [
    "## Raw data"
   ]
  },
  {
   "cell_type": "code",
   "execution_count": 2,
   "id": "f34e16cb",
   "metadata": {},
   "outputs": [],
   "source": [
    "dataset_path = ''\n",
    "filepaths = get_file_paths(dataset_path)"
   ]
  },
  {
   "cell_type": "code",
   "execution_count": 3,
   "id": "cfe0ebe0",
   "metadata": {},
   "outputs": [],
   "source": [
    "scene = next(scenes_generator(filepaths))"
   ]
  },
  {
   "cell_type": "code",
   "execution_count": 4,
   "id": "2a680899",
   "metadata": {},
   "outputs": [
    {
     "name": "stdout",
     "output_type": "stream",
     "text": [
      "Number of history steps: 25\n"
     ]
    }
   ],
   "source": [
    "# Number of known history steps\n",
    "# Index 0 is farthest (-5s) into the past, and index 24 represents current time\n",
    "print('Number of history steps:', len(scene.past_vehicle_tracks))"
   ]
  },
  {
   "cell_type": "code",
   "execution_count": 5,
   "id": "962c8734",
   "metadata": {},
   "outputs": [
    {
     "name": "stdout",
     "output_type": "stream",
     "text": [
      "Number of vehicles seen at current time: 1\n",
      "[track_id: 3923\n",
      "position {\n",
      "  x: -2019.9418656865134\n",
      "  y: 1085.4598225149823\n",
      "  z: 0.9818075703291762\n",
      "}\n",
      "dimensions {\n",
      "  x: 4.529175540519738\n",
      "  y: 2.0547066458659815\n",
      "  z: 1.968017719989121\n",
      "}\n",
      "linear_velocity {\n",
      "  x: 9.722125739413503\n",
      "  y: -9.368845936458117\n",
      "}\n",
      "linear_acceleration {\n",
      "  x: -0.2929295908623673\n",
      "  y: 0.6188691794027462\n",
      "}\n",
      "yaw: 2.3747944352334356\n",
      "]\n"
     ]
    }
   ],
   "source": [
    "print('Number of vehicles seen at current time:', len(scene.past_vehicle_tracks[-1].tracks))\n",
    "print(scene.past_vehicle_tracks[-1].tracks)"
   ]
  },
  {
   "cell_type": "code",
   "execution_count": 6,
   "id": "0e7b0767",
   "metadata": {},
   "outputs": [
    {
     "name": "stdout",
     "output_type": "stream",
     "text": [
      "Number of pedestrians seen at current time: 0\n",
      "[]\n"
     ]
    }
   ],
   "source": [
    "print('Number of pedestrians seen at current time:', len(scene.past_pedestrian_tracks[-1].tracks))\n",
    "print(scene.past_pedestrian_tracks[-1].tracks)"
   ]
  },
  {
   "cell_type": "code",
   "execution_count": 7,
   "id": "6381dba8",
   "metadata": {},
   "outputs": [
    {
     "name": "stdout",
     "output_type": "stream",
     "text": [
      "Number of vehicles to predict: 1\n",
      "[track_id: 3923\n",
      "trajectory_tags: kUniform\n",
      "trajectory_tags: kMoveForward\n",
      "]\n"
     ]
    }
   ],
   "source": [
    "print('Number of vehicles to predict:', len(scene.prediction_requests))\n",
    "print(scene.prediction_requests)"
   ]
  },
  {
   "cell_type": "code",
   "execution_count": 8,
   "id": "8ca8d07b",
   "metadata": {},
   "outputs": [
    {
     "name": "stdout",
     "output_type": "stream",
     "text": [
      "Number of future steps to predict: 25\n"
     ]
    }
   ],
   "source": [
    "# Number of future steps\n",
    "# Index 0 is closest (0.2s into the future), index 24 is farthest (5s into the future)\n",
    "print('Number of future steps to predict:', len(scene.future_vehicle_tracks))"
   ]
  },
  {
   "cell_type": "code",
   "execution_count": 9,
   "id": "e322fd68",
   "metadata": {},
   "outputs": [
    {
     "name": "stdout",
     "output_type": "stream",
     "text": [
      "First future state: [track_id: 3923\n",
      "position {\n",
      "  x: -2017.8681271961125\n",
      "  y: 1083.6118504585602\n",
      "  z: 1.0\n",
      "}\n",
      "dimensions {\n",
      "  x: 4.437810497232245\n",
      "  y: 2.002603740226932\n",
      "  z: 2.0\n",
      "}\n",
      "linear_velocity {\n",
      "  x: 10.613095687628794\n",
      "  y: -9.557546072252253\n",
      "}\n",
      "linear_acceleration {\n",
      "  x: 0.5709183894738626\n",
      "  y: -0.3332869578985755\n",
      "}\n",
      "yaw: 2.3381289968105037\n",
      "]\n"
     ]
    }
   ],
   "source": [
    "print('First future state:', scene.future_vehicle_tracks[0].tracks)"
   ]
  },
  {
   "cell_type": "code",
   "execution_count": 10,
   "id": "1f33c06a",
   "metadata": {},
   "outputs": [
    {
     "name": "stdout",
     "output_type": "stream",
     "text": [
      "Last future state: [track_id: 3923\n",
      "position {\n",
      "  x: -1968.395917069477\n",
      "  y: 1036.1632503195\n",
      "  z: 0.8644047462812844\n",
      "}\n",
      "dimensions {\n",
      "  x: 4.44663464288366\n",
      "  y: 2.0053597653181865\n",
      "  z: 1.7400477229576077\n",
      "}\n",
      "linear_velocity {\n",
      "  x: 10.495274410037208\n",
      "  y: -10.680511872289703\n",
      "}\n",
      "linear_acceleration {\n",
      "  x: -0.16880430160665374\n",
      "  y: -0.46839964155131236\n",
      "}\n",
      "yaw: -0.7920735653804467\n",
      "]\n"
     ]
    }
   ],
   "source": [
    "print('Last future state:', scene.future_vehicle_tracks[24].tracks)"
   ]
  },
  {
   "cell_type": "markdown",
   "id": "f1d5e26d",
   "metadata": {},
   "source": [
    "## Basic usage"
   ]
  },
  {
   "cell_type": "code",
   "execution_count": 11,
   "id": "892874a5",
   "metadata": {},
   "outputs": [],
   "source": [
    "rendering_config = {\n",
    "    # parameters of feature maps to render\n",
    "    'fm_params': {\n",
    "        'rows': 400,\n",
    "        'cols': 400,\n",
    "        'resolution': 0.5,  # number of meters in one pixel\n",
    "    },\n",
    "    'groups': [\n",
    "        {\n",
    "            # number of history steps to render, up to 25, each step is 0.2 sec long\n",
    "            'n_history_steps': 1,\n",
    "            'renderers': [\n",
    "                # each value is rendered at its own channel\n",
    "                # occupancy -- 1 channel\n",
    "                # velocity -- 2 channels (x, y)\n",
    "                # acceleration -- 2 channels (x, y)\n",
    "                # yaw -- 1 channel\n",
    "                {'vehicles': ['occupancy', 'velocity', 'acceleration', 'yaw']},\n",
    "                # only occupancy and velocity are available for pedestrians\n",
    "                {'pedestrians': ['occupancy', 'velocity']},\n",
    "            ]\n",
    "        }\n",
    "        # having several groups allows to independently render feature maps with different history length\n",
    "        # could be useful to render static features (road graph, etc.) once\n",
    "        # renderer for static features is under development\n",
    "    ]\n",
    "}"
   ]
  },
  {
   "cell_type": "code",
   "execution_count": 12,
   "id": "33347a12",
   "metadata": {},
   "outputs": [],
   "source": [
    "# path to dataset dir containing sub directories\n",
    "dataset_path = ''\n",
    "# path to file with scene tags\n",
    "scene_tags_fpath = ''"
   ]
  },
  {
   "cell_type": "code",
   "execution_count": 13,
   "id": "7c7f1590",
   "metadata": {},
   "outputs": [],
   "source": [
    "dataset = MotionPredictionDataset(\n",
    "    dataset_path=dataset_path,\n",
    "    scene_tags_fpath=scene_tags_fpath,\n",
    "    renderer_config=rendering_config,\n",
    ")"
   ]
  },
  {
   "cell_type": "code",
   "execution_count": 14,
   "id": "23f9a269",
   "metadata": {},
   "outputs": [
    {
     "data": {
      "text/plain": [
       "50000"
      ]
     },
     "execution_count": 14,
     "metadata": {},
     "output_type": "execute_result"
    }
   ],
   "source": [
    "# Number of scenes in dataset.\n",
    "# Actual number of objects in dataset is bigger,\n",
    "# since we consider multiple agents in a scene for prediction.\n",
    "dataset.num_scenes"
   ]
  },
  {
   "cell_type": "code",
   "execution_count": 15,
   "id": "4dc031dc",
   "metadata": {},
   "outputs": [],
   "source": [
    "dataset_iter = iter(dataset)"
   ]
  },
  {
   "cell_type": "code",
   "execution_count": 16,
   "id": "d7ebf311",
   "metadata": {},
   "outputs": [],
   "source": [
    "# Skip to scene with pedestrians\n",
    "for i in range(101):\n",
    "    data_item = next(dataset_iter)"
   ]
  },
  {
   "cell_type": "code",
   "execution_count": 17,
   "id": "f98210e9",
   "metadata": {},
   "outputs": [
    {
     "data": {
      "text/plain": [
       "dict_keys(['feature_maps', 'gt_trajectory'])"
      ]
     },
     "execution_count": 17,
     "metadata": {},
     "output_type": "execute_result"
    }
   ],
   "source": [
    "# One data item contains rendered feature maps and ground truth trajectory.\n",
    "# Feature maps are centered around current actor.\n",
    "# Ground truth trajectory is transformed to actor coordinate system:\n",
    "# actor is located at origin (0, 0) headed to positive x direction  at prediction time.\n",
    "data_item.keys()"
   ]
  },
  {
   "cell_type": "code",
   "execution_count": 18,
   "id": "a5736fe1",
   "metadata": {},
   "outputs": [
    {
     "data": {
      "text/plain": [
       "(8, 400, 400)"
      ]
     },
     "execution_count": 18,
     "metadata": {},
     "output_type": "execute_result"
    }
   ],
   "source": [
    "# Feature maps are in channels first format\n",
    "data_item['feature_maps'].shape"
   ]
  },
  {
   "cell_type": "code",
   "execution_count": 19,
   "id": "1e9af922",
   "metadata": {},
   "outputs": [
    {
     "data": {
      "text/plain": [
       "<matplotlib.image.AxesImage at 0x136b27310>"
      ]
     },
     "execution_count": 19,
     "metadata": {},
     "output_type": "execute_result"
    },
    {
     "data": {
      "image/png": "[encoded data removed]",
      "text/plain": [
       "<Figure size 720x720 with 1 Axes>"
      ]
     },
     "metadata": {
      "needs_background": "light"
     },
     "output_type": "display_data"
    }
   ],
   "source": [
    "# Plot vehicles occupancy\n",
    "plt.figure(figsize=(10, 10))\n",
    "plt.imshow(data_item['feature_maps'][0])"
   ]
  },
  {
   "cell_type": "code",
   "execution_count": 20,
   "id": "8c8140d7",
   "metadata": {},
   "outputs": [
    {
     "data": {
      "text/plain": [
       "<matplotlib.image.AxesImage at 0x136aad430>"
      ]
     },
     "execution_count": 20,
     "metadata": {},
     "output_type": "execute_result"
    },
    {
     "data": {
      "image/png": "[encoded data removed]",
      "text/plain": [
       "<Figure size 720x720 with 1 Axes>"
      ]
     },
     "metadata": {
      "needs_background": "light"
     },
     "output_type": "display_data"
    }
   ],
   "source": [
    "# Plot pedestrians occupancy\n",
    "plt.figure(figsize=(10, 10))\n",
    "plt.imshow(data_item['feature_maps'][-3])"
   ]
  },
  {
   "cell_type": "markdown",
   "id": "ad37d658",
   "metadata": {},
   "source": [
    "## Filtration by tags"
   ]
  },
  {
   "cell_type": "code",
   "execution_count": 21,
   "id": "ae4b7e31",
   "metadata": {},
   "outputs": [],
   "source": [
    "# To filter scenes by tags one should specify a filter function\n",
    "# Scene tags dict has following structure:\n",
    "# {\n",
    "#     'day_time': one of {'kNight', 'kMorning', 'kAfternoon', 'kEvening'}\n",
    "#     'season': one of {'kWinter', 'kSpring', 'kSummer', 'kAutumn'}\n",
    "#     'track': one of {'Moscow' , 'Skolkovo', 'Innopolis', 'AnnArbor', 'Modiin', 'TelAviv'}\n",
    "#     'sun_phase': one of {'kAstronomicalNight', 'kTwilight', 'kDaylight'}\n",
    "#     'precipitation': one of {'kNoPrecipitation', 'kRain', 'kSleet', 'kSnow'}\n",
    "# }\n",
    "# Full description of protobuf message is available at tags.proto file in sources\n",
    "\n",
    "\n",
    "def filter_scene(scene_tags_dict):\n",
    "    if scene_tags_dict['track'] == 'AnnArbor' and scene_tags_dict['precipitation'] == 'kRain':\n",
    "        return True\n",
    "    else:\n",
    "        return False"
   ]
  },
  {
   "cell_type": "code",
   "execution_count": 22,
   "id": "04d75166",
   "metadata": {},
   "outputs": [],
   "source": [
    "# Trajectory tags list can include any number of the following non-mutually exclusive tags.\n",
    "# [\n",
    "#     'kMoveLeft', 'kMoveRight', 'kMoveForward', 'kMoveBack',\n",
    "#     'kAcceleration', 'kDeceleration', 'kUniform',\n",
    "#     'kStopping', 'kStarting', 'kStationary'\n",
    "# ]\n",
    "\n",
    "\n",
    "def filter_trajectory(trajectory_tags_list):\n",
    "    if 'kMoveRight' in trajectory_tags_list:\n",
    "        return True\n",
    "    else:\n",
    "        return False"
   ]
  },
  {
   "cell_type": "code",
   "execution_count": 23,
   "id": "2e77e8e1",
   "metadata": {},
   "outputs": [],
   "source": [
    "# Let's try to filter scenes\n",
    "\n",
    "dataset = MotionPredictionDataset(\n",
    "    dataset_path=dataset_path,\n",
    "    scene_tags_fpath=scene_tags_fpath,\n",
    "    renderer_config=rendering_config,\n",
    "    scene_tags_filter=filter_scene,\n",
    "    trajectory_tags_filter=filter_trajectory,\n",
    ")"
   ]
  },
  {
   "cell_type": "code",
   "execution_count": 24,
   "id": "389307c5",
   "metadata": {},
   "outputs": [
    {
     "data": {
      "text/plain": [
       "364"
      ]
     },
     "execution_count": 24,
     "metadata": {},
     "output_type": "execute_result"
    }
   ],
   "source": [
    "# Rainy Ann-Arbor is pretty rare occasion\n",
    "dataset.num_scenes"
   ]
  },
  {
   "cell_type": "code",
   "execution_count": 25,
   "id": "5baf20e3",
   "metadata": {},
   "outputs": [],
   "source": [
    "dataset_iter = iter(dataset)"
   ]
  },
  {
   "cell_type": "code",
   "execution_count": 26,
   "id": "cb50add8",
   "metadata": {},
   "outputs": [],
   "source": [
    "data_item = next(dataset_iter)"
   ]
  },
  {
   "cell_type": "code",
   "execution_count": 27,
   "id": "0efa2f39",
   "metadata": {},
   "outputs": [],
   "source": [
    "vehicles_occupancy_fm = data_item['feature_maps'][0]"
   ]
  },
  {
   "cell_type": "code",
   "execution_count": 28,
   "id": "266aebb0",
   "metadata": {},
   "outputs": [],
   "source": [
    "transformed_gt = transform2dpoints(data_item['gt_trajectory'], dataset._renderer._to_feature_map_tf)\n",
    "transformed_gt = np.round(transformed_gt - 0.5).astype(np.int32)\n",
    "vehicles_occupancy_fm = cv2.polylines(vehicles_occupancy_fm, [transformed_gt], False, 1.)"
   ]
  },
  {
   "cell_type": "code",
   "execution_count": 29,
   "id": "97970e39",
   "metadata": {},
   "outputs": [
    {
     "data": {
      "text/plain": [
       "<matplotlib.image.AxesImage at 0x136999730>"
      ]
     },
     "execution_count": 29,
     "metadata": {},
     "output_type": "execute_result"
    },
    {
     "data": {
      "image/png": "[encoded data removed]",
      "text/plain": [
       "<Figure size 720x720 with 1 Axes>"
      ]
     },
     "metadata": {
      "needs_background": "light"
     },
     "output_type": "display_data"
    }
   ],
   "source": [
    "# Looks like car is slowly moving right\n",
    "plt.figure(figsize=(10, 10))\n",
    "plt.imshow(vehicles_occupancy_fm)"
   ]
  }
 ],
 "metadata": {
  "kernelspec": {
   "display_name": "Python 3",
   "language": "python",
   "name": "python3"
  },
  "language_info": {
   "codemirror_mode": {
    "name": "ipython",
    "version": 3
   },
   "file_extension": ".py",
   "mimetype": "text/x-python",
   "name": "python",
   "nbconvert_exporter": "python",
   "pygments_lexer": "ipython3",
   "version": "3.9.1"
  }
 },
 "nbformat": 4,
 "nbformat_minor": 5
}
