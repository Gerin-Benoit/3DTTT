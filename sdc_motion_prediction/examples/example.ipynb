{
 "cells": [
  {
   "cell_type": "code",
   "execution_count": 32,
   "id": "6cf9bbfd",
   "metadata": {},
   "outputs": [],
   "source": [
    "import matplotlib.pyplot as plt\n",
    "import numpy as np\n",
    "import torch\n",
    "from matplotlib import collections as mc\n",
    "\n",
    "from ysdc_dataset_api.dataset import MotionPredictionDataset\n",
    "from ysdc_dataset_api.features import FeatureRenderer\n",
    "from ysdc_dataset_api.utils import get_file_paths, scenes_generator, transform_2d_points"
   ]
  },
  {
   "cell_type": "markdown",
   "id": "8077c7d5",
   "metadata": {},
   "source": [
    "## Raw Data\n",
    "\n",
    "The data directory (below referred to as `/path/to/datasets/` or `c.dir_data`)\n",
    " should have the following enclosed components:\n",
    "\n",
    "* Protobuf directories: `train_pb/`, `validation_pb/`\n",
    "* Tag files: `train_tags.txt`, `validation_tags.txt`\n",
    "* (If desired) rendered feature map directories: `train_rendered/`, \n",
    "    `validation_rendered/`\n",
    "\n",
    "We provide rendered feature maps at 128x128 resolution with zlib compression \n",
    "level 1, which can be used to avoid rendering costs and significantly decrease \n",
    "decompression time (demonstrated below in the `Prerendered Dataset` section)."
   ]
  },
  {
   "cell_type": "code",
   "execution_count": 2,
   "id": "8bd30c5b",
   "metadata": {},
   "outputs": [],
   "source": [
    "# Load protobufs for training dataset\n",
    "dataset_path = '/path/to/datasets/train_pb/'\n",
    "filepaths = get_file_paths(dataset_path)"
   ]
  },
  {
   "cell_type": "code",
   "execution_count": 3,
   "id": "465c8fbf",
   "metadata": {},
   "outputs": [],
   "source": [
    "scene = next(scenes_generator(filepaths))"
   ]
  },
  {
   "cell_type": "code",
   "execution_count": 4,
   "id": "374975ce",
   "metadata": {},
   "outputs": [
    {
     "name": "stdout",
     "output_type": "stream",
     "text": [
      "Number of history steps: 25\n"
     ]
    }
   ],
   "source": [
    "# Number of known history steps\n",
    "# Index 0 is farthest (-5s) into the past, and index 24 represents current time\n",
    "print('Number of history steps:', len(scene.past_vehicle_tracks))"
   ]
  },
  {
   "cell_type": "code",
   "execution_count": 5,
   "id": "5746e640",
   "metadata": {},
   "outputs": [
    {
     "name": "stdout",
     "output_type": "stream",
     "text": [
      "Number of vehicles seen at current time: 19\n",
      "[track_id: 644\n",
      "position {\n",
      "  x: 23.1041285957724\n",
      "  y: 230.05096622854262\n",
      "  z: 0.4\n",
      "}\n",
      "dimensions {\n",
      "  x: 3.5\n",
      "  y: 2.0\n",
      "  z: 0.8\n",
      "}\n",
      "linear_velocity {\n",
      "  x: 3.0637934327815106\n",
      "  y: 5.918169823545364\n",
      "}\n",
      "linear_acceleration {\n",
      "  x: 0.5992150961762688\n",
      "  y: 0.8690962004084899\n",
      "}\n",
      "yaw: 1.0930949336114995\n",
      ", track_id: 626\n",
      "position {\n",
      "  x: 23.006511243234254\n",
      "  y: 200.60682712336757\n",
      "  z: 0.4\n",
      "}\n",
      "dimensions {\n",
      "  x: 3.5\n",
      "  y: 2.0\n",
      "  z: 0.8\n",
      "}\n",
      "linear_velocity {\n",
      "  x: 4.457259190288541\n",
      "  y: 6.764468440668048\n",
      "}\n",
      "linear_acceleration {\n",
      "  x: 0.12257907753344777\n",
      "  y: -0.496324989968866\n",
      "}\n",
      "yaw: 0.9881743793803702\n",
      ", track_id: 643\n",
      "position {\n",
      "  x: 0.2879550765690097\n",
      "  y: 13.160340295580747\n",
      "  z: 0.8543668404258362\n",
      "}\n",
      "dimensions {\n",
      "  x: 4.3824773305436935\n",
      "  y: 1.9765978189172575\n",
      "  z: 1.7087336808516724\n",
      "}\n",
      "linear_velocity {\n",
      "  x: -0.16654887665695758\n",
      "  y: -0.19216743915238083\n",
      "}\n",
      "linear_acceleration {\n",
      "  x: -0.3643648255369744\n",
      "  y: -0.5397777291778518\n",
      "}\n",
      "yaw: 0.07167547589061274\n",
      ", track_id: 637\n",
      "position {\n",
      "  x: 0.7738404466465151\n",
      "  y: 3.1208447233654013\n",
      "  z: 0.8878038759055198\n",
      "}\n",
      "dimensions {\n",
      "  x: 4.430752606898775\n",
      "  y: 1.9805380826342671\n",
      "  z: 1.781221579132203\n",
      "}\n",
      "linear_velocity {\n",
      "  x: 0.3339525954287217\n",
      "  y: -0.08325862221127452\n",
      "}\n",
      "linear_acceleration {\n",
      "  x: 0.3828840755174238\n",
      "  y: -0.30102447692477385\n",
      "}\n",
      "yaw: 0.08354905453302747\n",
      ", track_id: 638\n",
      "position {\n",
      "  x: 0.23704113784536304\n",
      "  y: 8.010314663397162\n",
      "  z: 0.8592848305545862\n",
      "}\n",
      "dimensions {\n",
      "  x: 4.294188176657883\n",
      "  y: 1.9452128277527654\n",
      "  z: 1.7185696611091723\n",
      "}\n",
      "linear_velocity {\n",
      "  x: 0.1867278637706718\n",
      "  y: -0.0993403332940368\n",
      "}\n",
      "linear_acceleration {\n",
      "  x: 0.18268667934942887\n",
      "  y: -0.11377625779939542\n",
      "}\n",
      "yaw: 0.08842914825858127\n",
      ", track_id: 645\n",
      "position {\n",
      "  x: -82.47033089549292\n",
      "  y: -8.536596217557875\n",
      "  z: 1.526168281718701\n",
      "}\n",
      "dimensions {\n",
      "  x: 10.325286261536055\n",
      "  y: 2.8437207465003707\n",
      "  z: 3.0021928297354425\n",
      "}\n",
      "linear_velocity {\n",
      "  x: 5.903102966295143\n",
      "  y: 13.755761158342088\n",
      "}\n",
      "linear_acceleration {\n",
      "  x: 0.8201665314105865\n",
      "  y: 0.5942929318076423\n",
      "}\n",
      "yaw: 1.1720687376660501\n",
      ", track_id: 618\n",
      "position {\n",
      "  x: -37.2564417921292\n",
      "  y: 25.32425449832263\n",
      "  z: 0.8262291731958418\n",
      "}\n",
      "dimensions {\n",
      "  x: 4.460817328641008\n",
      "  y: 2.016430833786498\n",
      "  z: 1.6544791615465568\n",
      "}\n",
      "linear_velocity {\n",
      "  x: 0.11201799137863011\n",
      "  y: 0.18495179534929876\n",
      "}\n",
      "linear_acceleration {\n",
      "  x: 0.0727483340501441\n",
      "  y: 0.23789216546413536\n",
      "}\n",
      "yaw: -1.936969469779472\n",
      ", track_id: 652\n",
      "position {\n",
      "  x: -0.5000286635578377\n",
      "  y: 28.397494512462\n",
      "  z: 0.8618688477648027\n",
      "}\n",
      "dimensions {\n",
      "  x: 4.404050792074951\n",
      "  y: 1.971605129550605\n",
      "  z: 1.7273353588461928\n",
      "}\n",
      "linear_velocity {\n",
      "  x: -0.3890244466473046\n",
      "  y: 1.8648484428762122\n",
      "}\n",
      "linear_acceleration {\n",
      "  x: 1.1538456532747952\n",
      "  y: 1.6335973213796782\n",
      "}\n",
      "yaw: 0.09571650190832752\n",
      ", track_id: 627\n",
      "position {\n",
      "  x: -43.8374865139619\n",
      "  y: 71.60703925906996\n",
      "  z: 0.844916459275939\n",
      "}\n",
      "dimensions {\n",
      "  x: 4.39793604845095\n",
      "  y: 1.976146502874319\n",
      "  z: 1.6852207460732676\n",
      "}\n",
      "linear_velocity {\n",
      "  x: 6.289513048890756\n",
      "  y: 13.522238908311914\n",
      "}\n",
      "linear_acceleration {\n",
      "  x: -0.070564199068119\n",
      "  y: -0.49425708821776226\n",
      "}\n",
      "yaw: -2.022139087116618\n",
      ", track_id: 593\n",
      "position {\n",
      "  x: -1.1286821719816\n",
      "  y: 38.332611177733206\n",
      "  z: 0.87676693781035\n",
      "}\n",
      "dimensions {\n",
      "  x: 4.497726454316628\n",
      "  y: 2.0121484511513987\n",
      "  z: 1.756468101934951\n",
      "}\n",
      "linear_velocity {\n",
      "  x: 0.9434318574468581\n",
      "  y: 1.121189090308473\n",
      "}\n",
      "linear_acceleration {\n",
      "  x: 1.5934233319078002\n",
      "  y: 1.208719192092127\n",
      "}\n",
      "yaw: 0.01792789321905096\n",
      ", track_id: 639\n",
      "position {\n",
      "  x: 0.35293774444041887\n",
      "  y: 10.68097939955305\n",
      "  z: 0.8643373122489408\n",
      "}\n",
      "dimensions {\n",
      "  x: 4.375673939959486\n",
      "  y: 1.9720310235648857\n",
      "  z: 1.7260990878703681\n",
      "}\n",
      "linear_velocity {\n",
      "  x: 0.2757227501241139\n",
      "  y: 0.1696966691172872\n",
      "}\n",
      "linear_acceleration {\n",
      "  x: 0.19919370683116047\n",
      "  y: -0.14005971298833406\n",
      "}\n",
      "yaw: 0.07696421185309212\n",
      ", track_id: 649\n",
      "position {\n",
      "  x: -0.2519949906194504\n",
      "  y: 18.197094766421433\n",
      "  z: 0.8705046867924242\n",
      "}\n",
      "dimensions {\n",
      "  x: 4.415307758734966\n",
      "  y: 1.9848983743576027\n",
      "  z: 1.7410093735848484\n",
      "}\n",
      "linear_velocity {\n",
      "  x: -0.054498373405724124\n",
      "  y: 0.2381364859293889\n",
      "}\n",
      "linear_acceleration {\n",
      "  x: 0.23838401027498746\n",
      "  y: 0.2942580695083375\n",
      "}\n",
      "yaw: 0.09420287867064438\n",
      ", track_id: 636\n",
      "position {\n",
      "  x: 0.5804563209994418\n",
      "  y: 5.613459698888233\n",
      "  z: 0.870587528874988\n",
      "}\n",
      "dimensions {\n",
      "  x: 4.380002183892238\n",
      "  y: 1.9742974808408864\n",
      "  z: 1.728807882151429\n",
      "}\n",
      "linear_velocity {\n",
      "  x: 0.5577979779856259\n",
      "  y: -0.10807642136429903\n",
      "}\n",
      "linear_acceleration {\n",
      "  x: 0.5510486813926352\n",
      "  y: -0.39268065511262545\n",
      "}\n",
      "yaw: 0.08111712914357948\n",
      ", track_id: 640\n",
      "position {\n",
      "  x: -0.08165511800002073\n",
      "  y: 15.670671730378103\n",
      "  z: 0.868105618356721\n",
      "}\n",
      "dimensions {\n",
      "  x: 4.369050249907251\n",
      "  y: 1.9684131148969488\n",
      "  z: 1.736211236713442\n",
      "}\n",
      "linear_velocity {\n",
      "  x: -0.4154284727463615\n",
      "  y: -0.07872932753453563\n",
      "}\n",
      "linear_acceleration {\n",
      "  x: -0.5737075684430603\n",
      "  y: 0.07421285345402495\n",
      "}\n",
      "yaw: 0.09435572883187221\n",
      ", track_id: 650\n",
      "position {\n",
      "  x: -0.25599593432695195\n",
      "  y: 20.814140408930673\n",
      "  z: 0.8666015792568289\n",
      "}\n",
      "dimensions {\n",
      "  x: 4.408698433196032\n",
      "  y: 1.9768640078384514\n",
      "  z: 1.7332031585136578\n",
      "}\n",
      "linear_velocity {\n",
      "  x: -0.4301554308831541\n",
      "  y: 0.4393515130909002\n",
      "}\n",
      "linear_acceleration {\n",
      "  x: -0.30415244318103435\n",
      "  y: 1.1060644700287063\n",
      "}\n",
      "yaw: 0.08188690371019991\n",
      ", track_id: 646\n",
      "position {\n",
      "  x: -0.5860723721833928\n",
      "  y: 25.704229142707423\n",
      "  z: 0.8583480066113218\n",
      "}\n",
      "dimensions {\n",
      "  x: 4.4505608107919885\n",
      "  y: 1.9906871405127466\n",
      "  z: 1.7147493189184315\n",
      "}\n",
      "linear_velocity {\n",
      "  x: 0.7205831699435024\n",
      "  y: 0.5426860195025112\n",
      "}\n",
      "linear_acceleration {\n",
      "  x: 0.2579720340034636\n",
      "  y: -0.6844936788669628\n",
      "}\n",
      "yaw: 0.10541176829090676\n",
      ", track_id: 568\n",
      "position {\n",
      "  x: -1.5328609666606325\n",
      "  y: 32.043438181696374\n",
      "  z: 0.880915605355417\n",
      "}\n",
      "dimensions {\n",
      "  x: 4.440060706211399\n",
      "  y: 1.9850189675945265\n",
      "  z: 1.761831210710834\n",
      "}\n",
      "linear_velocity {\n",
      "  x: -0.835922397898976\n",
      "  y: -1.814875919038597\n",
      "}\n",
      "linear_acceleration {\n",
      "  x: -0.7981049978264243\n",
      "  y: -1.8338561591478442\n",
      "}\n",
      "yaw: 0.0446322158772\n",
      ", track_id: 642\n",
      "position {\n",
      "  x: -0.302186277339625\n",
      "  y: 23.342645160564675\n",
      "  z: 0.8613627986125215\n",
      "}\n",
      "dimensions {\n",
      "  x: 4.392376664330032\n",
      "  y: 1.9874562778424893\n",
      "  z: 1.7158861756634411\n",
      "}\n",
      "linear_velocity {\n",
      "  x: 1.0028883105481818\n",
      "  y: 1.1748111070363743\n",
      "}\n",
      "linear_acceleration {\n",
      "  x: 1.7806632934803006\n",
      "  y: 0.9106251892254511\n",
      "}\n",
      "yaw: 0.10947543981052216\n",
      ", track_id: 573\n",
      "position {\n",
      "  x: -1.3066748933278074\n",
      "  y: 35.12277740102479\n",
      "  z: 0.8737609464201164\n",
      "}\n",
      "dimensions {\n",
      "  x: 4.431527082096427\n",
      "  y: 1.991215107415531\n",
      "  z: 1.7475218928402327\n",
      "}\n",
      "linear_velocity {\n",
      "  x: 0.1364587880845662\n",
      "  y: -0.9710524822133486\n",
      "}\n",
      "linear_acceleration {\n",
      "  x: 0.7350430011313033\n",
      "  y: -1.7523517662811285\n",
      "}\n",
      "yaw: 0.018035507694913952\n",
      "]\n"
     ]
    }
   ],
   "source": [
    "print('Number of vehicles seen at current time:', len(scene.past_vehicle_tracks[-1].tracks))\n",
    "print(scene.past_vehicle_tracks[-1].tracks)"
   ]
  },
  {
   "cell_type": "code",
   "execution_count": 6,
   "id": "38380136",
   "metadata": {},
   "outputs": [
    {
     "name": "stdout",
     "output_type": "stream",
     "text": [
      "Number of pedestrians seen at current time: 2\n",
      "[track_id: 412\n",
      "position {\n",
      "  x: -46.55542085380712\n",
      "  y: 30.018310054941743\n",
      "  z: 1.0\n",
      "}\n",
      "dimensions {\n",
      "  x: 0.800000011920929\n",
      "  y: 0.800000011920929\n",
      "  z: 2.0\n",
      "}\n",
      "linear_velocity {\n",
      "  x: -1.2732870184613057\n",
      "  y: -2.486556869752733\n",
      "}\n",
      ", track_id: 397\n",
      "position {\n",
      "  x: -36.45380930619961\n",
      "  y: 18.515861764223736\n",
      "  z: 0.8406904862947988\n",
      "}\n",
      "dimensions {\n",
      "  x: 0.8536560331173352\n",
      "  y: 0.8536560331173352\n",
      "  z: 1.66465514673129\n",
      "}\n",
      "linear_velocity {\n",
      "  x: -0.22733366154068405\n",
      "  y: -1.4239734782025706\n",
      "  z: -0.06461849360765813\n",
      "}\n",
      "]\n"
     ]
    }
   ],
   "source": [
    "print('Number of pedestrians seen at current time:', len(scene.past_pedestrian_tracks[-1].tracks))\n",
    "print(scene.past_pedestrian_tracks[-1].tracks)"
   ]
  },
  {
   "cell_type": "code",
   "execution_count": 7,
   "id": "00a10aee",
   "metadata": {},
   "outputs": [
    {
     "name": "stdout",
     "output_type": "stream",
     "text": [
      "Number of vehicles to predict: 1\n",
      "[track_id: 645\n",
      "trajectory_tags: kAcceleration\n",
      "trajectory_tags: kMoveForward\n",
      "]\n"
     ]
    }
   ],
   "source": [
    "print('Number of vehicles to predict:', len(scene.prediction_requests))\n",
    "print(scene.prediction_requests)"
   ]
  },
  {
   "cell_type": "code",
   "execution_count": 8,
   "id": "81c9893d",
   "metadata": {},
   "outputs": [
    {
     "name": "stdout",
     "output_type": "stream",
     "text": [
      "Number of future steps to predict: 25\n"
     ]
    }
   ],
   "source": [
    "# Number of future steps\n",
    "# Index 0 is closest (0.2s into the future), index 24 is farthest (5s into the future)\n",
    "print('Number of future steps to predict:', len(scene.future_vehicle_tracks))"
   ]
  },
  {
   "cell_type": "code",
   "execution_count": 9,
   "id": "1bdf4adc",
   "metadata": {},
   "outputs": [
    {
     "name": "stdout",
     "output_type": "stream",
     "text": [
      "First future state: [track_id: 645\n",
      "position {\n",
      "  x: -81.52598366867319\n",
      "  y: -5.831476881569145\n",
      "  z: 1.5609206788818606\n",
      "}\n",
      "dimensions {\n",
      "  x: 10.136678070983928\n",
      "  y: 2.8632514948864616\n",
      "  z: 3.121841357763721\n",
      "}\n",
      "linear_velocity {\n",
      "  x: 5.262881153392477\n",
      "  y: 13.02754028804255\n",
      "}\n",
      "linear_acceleration {\n",
      "  x: -0.15031472530114648\n",
      "  y: -0.37208348101960276\n",
      "}\n",
      "yaw: 1.1840690857022549\n",
      "]\n"
     ]
    }
   ],
   "source": [
    "print('First future state:', scene.future_vehicle_tracks[0].tracks)"
   ]
  },
  {
   "cell_type": "code",
   "execution_count": 10,
   "id": "c1abbfdc",
   "metadata": {},
   "outputs": [
    {
     "name": "stdout",
     "output_type": "stream",
     "text": [
      "Last future state: [track_id: 645\n",
      "position {\n",
      "  x: -54.633954211205534\n",
      "  y: 56.96403262062027\n",
      "  z: 1.5656461624981695\n",
      "}\n",
      "dimensions {\n",
      "  x: 10.124064172215855\n",
      "  y: 3.007386950731061\n",
      "  z: 3.1105557377685256\n",
      "}\n",
      "linear_velocity {\n",
      "  x: 5.995726497524344\n",
      "  y: 12.594407069029854\n",
      "}\n",
      "linear_acceleration {\n",
      "  x: 0.7940130700084255\n",
      "  y: 0.4269139519722473\n",
      "}\n",
      "yaw: 1.1329509628486973\n",
      "]\n"
     ]
    }
   ],
   "source": [
    "print('Last future state:', scene.future_vehicle_tracks[24].tracks)"
   ]
  },
  {
   "cell_type": "markdown",
   "id": "ac52f8de",
   "metadata": {},
   "source": [
    "## Basic Usage"
   ]
  },
  {
   "cell_type": "code",
   "execution_count": 11,
   "id": "adfe53ed",
   "metadata": {},
   "outputs": [],
   "source": [
    "renderer_config = {\n",
    "    # parameters of feature maps to render\n",
    "    'feature_map_params': {\n",
    "        'rows': 400,\n",
    "        'cols': 400,\n",
    "        'resolution': 0.25,  # number of meters in one pixel\n",
    "    },\n",
    "    'renderers_groups': [\n",
    "        # Having several feature map groups\n",
    "        # allows to independently render feature maps with different history length.\n",
    "        # This could be useful to render static features (road graph, etc.) once.\n",
    "        {\n",
    "            # start: int, first timestamp into the past to render, 0 – prediction time\n",
    "            # stop: int, last timestamp to render inclusively, 24 – farthest known point into the past\n",
    "            # step: int, grid step size,\n",
    "            #            step=1 renders all points between start and stop,\n",
    "            #            step=2 renders every second point, etc.\n",
    "            'time_grid_params': {\n",
    "                'start': 0,\n",
    "                'stop': 0,\n",
    "                'step': 1,\n",
    "            },\n",
    "            'renderers': [\n",
    "                # each value is rendered at its own channel\n",
    "                # occupancy -- 1 channel\n",
    "                # velocity -- 2 channels (x, y)\n",
    "                # acceleration -- 2 channels (x, y)\n",
    "                # yaw -- 1 channel\n",
    "                {'vehicles': ['occupancy', 'velocity', 'acceleration', 'yaw']},\n",
    "                # only occupancy and velocity are available for pedestrians\n",
    "                {'pedestrians': ['occupancy', 'velocity']},\n",
    "            ]\n",
    "        },\n",
    "        {\n",
    "            'time_grid_params': {\n",
    "                'start': 0,\n",
    "                'stop': 0,\n",
    "                'step': 1,\n",
    "            },\n",
    "            'renderers': [\n",
    "                {\n",
    "                    'road_graph': [\n",
    "                        'crosswalk_occupancy',\n",
    "                        'crosswalk_availability',\n",
    "                        'lane_availability',\n",
    "                        'lane_direction',\n",
    "                        'lane_occupancy',\n",
    "                        'lane_priority',\n",
    "                        'lane_speed_limit',\n",
    "                        'road_polygons',\n",
    "                    ]\n",
    "                }\n",
    "            ]\n",
    "        }\n",
    "    ]\n",
    "}"
   ]
  },
  {
   "cell_type": "code",
   "execution_count": 12,
   "id": "084b4500",
   "metadata": {},
   "outputs": [],
   "source": [
    "# Load protobufs for training dataset\n",
    "dataset_path = '/path/to/datasets/train_pb/'\n",
    "\n",
    "# Path to file with training scene tags\n",
    "scene_tags_fpath = '/path/to/datasets/train_tags.txt'"
   ]
  },
  {
   "cell_type": "code",
   "execution_count": 13,
   "id": "cce7d392",
   "metadata": {},
   "outputs": [],
   "source": [
    "renderer = FeatureRenderer(renderer_config)"
   ]
  },
  {
   "cell_type": "code",
   "execution_count": 14,
   "id": "7c15242c",
   "metadata": {},
   "outputs": [
    {
     "data": {
      "text/plain": [
       "array([[  4.,   0.,   0., 200.],\n",
       "       [  0.,   4.,   0., 200.],\n",
       "       [  0.,   0.,   1.,   0.],\n",
       "       [  0.,   0.,   0.,   1.]], dtype=float32)"
      ]
     },
     "execution_count": 14,
     "metadata": {},
     "output_type": "execute_result"
    }
   ],
   "source": [
    "renderer.to_feature_map_tf"
   ]
  },
  {
   "cell_type": "code",
   "execution_count": 15,
   "id": "ad8a5ebf",
   "metadata": {},
   "outputs": [
    {
     "name": "stdout",
     "output_type": "stream",
     "text": [
      "500000/500000 scenes fit the filter criteria.\n"
     ]
    }
   ],
   "source": [
    "dataset = MotionPredictionDataset(\n",
    "    dataset_path=dataset_path,\n",
    "    scene_tags_fpath=scene_tags_fpath,\n",
    "    feature_producer=renderer,\n",
    "    transform_ground_truth_to_agent_frame=True,\n",
    ")"
   ]
  },
  {
   "cell_type": "code",
   "execution_count": 16,
   "id": "c552798d",
   "metadata": {},
   "outputs": [
    {
     "data": {
      "text/plain": [
       "500000"
      ]
     },
     "execution_count": 16,
     "metadata": {},
     "output_type": "execute_result"
    }
   ],
   "source": [
    "# Number of scenes in dataset.\n",
    "# Actual number of objects in dataset is bigger,\n",
    "# since we consider multiple agents in a scene for prediction.\n",
    "dataset.num_scenes"
   ]
  },
  {
   "cell_type": "code",
   "execution_count": 17,
   "id": "c85bed2c",
   "metadata": {},
   "outputs": [],
   "source": [
    "dataset_iter = iter(dataset)"
   ]
  },
  {
   "cell_type": "code",
   "execution_count": 18,
   "id": "98dc8c88",
   "metadata": {},
   "outputs": [],
   "source": [
    "# Take some scene\n",
    "for i in range(10):\n",
    "    data_item = next(dataset_iter)"
   ]
  },
  {
   "cell_type": "code",
   "execution_count": 19,
   "id": "59f300b3",
   "metadata": {},
   "outputs": [
    {
     "data": {
      "text/plain": [
       "dict_keys(['ground_truth_trajectory', 'scene_id', 'track_id', 'feature_maps'])"
      ]
     },
     "execution_count": 19,
     "metadata": {},
     "output_type": "execute_result"
    }
   ],
   "source": [
    "# One data item contains rendered feature maps and ground truth trajectory.\n",
    "# Feature maps are centered around current actor.\n",
    "# Ground truth trajectory is transformed to actor coordinate system:\n",
    "# actor is located at origin (0, 0) headed to positive x direction at prediction time.\n",
    "data_item.keys()"
   ]
  },
  {
   "cell_type": "code",
   "execution_count": 20,
   "id": "a3812904",
   "metadata": {},
   "outputs": [
    {
     "data": {
      "text/plain": [
       "(17, 400, 400)"
      ]
     },
     "execution_count": 20,
     "metadata": {},
     "output_type": "execute_result"
    }
   ],
   "source": [
    "# Feature maps are in channels first format\n",
    "data_item['feature_maps'].shape"
   ]
  },
  {
   "cell_type": "code",
   "execution_count": 24,
   "id": "c8c44e78",
   "metadata": {},
   "outputs": [
    {
     "data": {
      "text/plain": [
       "<matplotlib.image.AxesImage at 0x7fac0eb935e0>"
      ]
     },
     "execution_count": 24,
     "metadata": {},
     "output_type": "execute_result"
    },
    {
     "data": {
      "image/png": "[encoded data removed]",
      "text/plain": [
       "<Figure size 720x720 with 1 Axes>"
      ]
     },
     "metadata": {
      "needs_background": "light"
     },
     "output_type": "display_data"
    }
   ],
   "source": [
    "# Plot vehicles occupancy, pedestrian occupancy, lane occupancy and road polygon\n",
    "plt.figure(figsize=(10, 10))\n",
    "plt.imshow(data_item['feature_maps'][0], origin='lower', cmap='binary', alpha=0.7)\n",
    "plt.imshow(data_item['feature_maps'][6], origin='lower', cmap='binary', alpha=0.5)\n",
    "plt.imshow(data_item['feature_maps'][13], origin='lower', cmap='binary', alpha=0.2)\n",
    "plt.imshow(data_item['feature_maps'][16], origin='lower', cmap='binary', alpha=0.1)"
   ]
  },
  {
   "cell_type": "markdown",
   "id": "dce542b7",
   "metadata": {},
   "source": [
    "## Filtration by Tags"
   ]
  },
  {
   "cell_type": "code",
   "execution_count": 25,
   "id": "ace1ee48",
   "metadata": {},
   "outputs": [],
   "source": [
    "# To filter scenes by tags one should specify a filter function\n",
    "# The scene tags dict has following structure:\n",
    "# {\n",
    "#     'day_time': one of {'kNight', 'kMorning', 'kAfternoon', 'kEvening'}\n",
    "#     'season': one of {'kWinter', 'kSpring', 'kSummer', 'kAutumn'}\n",
    "#     'track': one of {'Moscow' , 'Skolkovo', 'Innopolis', 'AnnArbor', 'Modiin', 'TelAviv'}\n",
    "#     'sun_phase': one of {'kAstronomicalNight', 'kTwilight', 'kDaylight'}\n",
    "#     'precipitation': one of {'kNoPrecipitation', 'kRain', 'kSleet', 'kSnow'}\n",
    "# }\n",
    "# Full description of protobuf message is available at tags.proto file in sources\n",
    "\n",
    "\n",
    "def filter_scene(scene_tags_dict):\n",
    "    if scene_tags_dict['track'] == 'AnnArbor' and scene_tags_dict['precipitation'] == 'kRain':\n",
    "        return True\n",
    "    else:\n",
    "        return False"
   ]
  },
  {
   "cell_type": "code",
   "execution_count": 26,
   "id": "90601855",
   "metadata": {},
   "outputs": [],
   "source": [
    "# Trajectory tags list can include any number of the following non-mutually exclusive tags.\n",
    "# [\n",
    "#     'kMoveLeft', 'kMoveRight', 'kMoveForward', 'kMoveBack',\n",
    "#     'kAcceleration', 'kDeceleration', 'kUniform',\n",
    "#     'kStopping', 'kStarting', 'kStationary'\n",
    "# ]\n",
    "\n",
    "\n",
    "def filter_trajectory(trajectory_tags_list):\n",
    "    if 'kMoveRight' in trajectory_tags_list:\n",
    "        return True\n",
    "    else:\n",
    "        return False"
   ]
  },
  {
   "cell_type": "code",
   "execution_count": 27,
   "id": "ae1735d6",
   "metadata": {},
   "outputs": [
    {
     "name": "stdout",
     "output_type": "stream",
     "text": [
      "950/500000 scenes fit the filter criteria.\n"
     ]
    }
   ],
   "source": [
    "# Let's try to filter scenes\n",
    "\n",
    "dataset = MotionPredictionDataset(\n",
    "    dataset_path=dataset_path,\n",
    "    scene_tags_fpath=scene_tags_fpath,\n",
    "    feature_producer=renderer,\n",
    "    transform_ground_truth_to_agent_frame=True,\n",
    "    scene_tags_filter=filter_scene,\n",
    "    trajectory_tags_filter=filter_trajectory,\n",
    ")"
   ]
  },
  {
   "cell_type": "code",
   "execution_count": 28,
   "id": "c07a673f",
   "metadata": {},
   "outputs": [
    {
     "data": {
      "text/plain": [
       "950"
      ]
     },
     "execution_count": 28,
     "metadata": {},
     "output_type": "execute_result"
    }
   ],
   "source": [
    "# Rainy Ann-Arbor is a pretty rare occasion\n",
    "dataset.num_scenes"
   ]
  },
  {
   "cell_type": "code",
   "execution_count": 29,
   "id": "a3494967",
   "metadata": {},
   "outputs": [],
   "source": [
    "dataset_iter = iter(dataset)"
   ]
  },
  {
   "cell_type": "code",
   "execution_count": 30,
   "id": "0a6d83ef",
   "metadata": {},
   "outputs": [],
   "source": [
    "for i in range(10):\n",
    "    data_item = next(dataset_iter)"
   ]
  },
  {
   "cell_type": "code",
   "execution_count": 35,
   "id": "2afdadbc",
   "metadata": {},
   "outputs": [],
   "source": [
    "transformed_gt = transform_2d_points(data_item['ground_truth_trajectory'], renderer.to_feature_map_tf)\n",
    "transformed_gt = np.round(transformed_gt - 0.5).astype(np.int32)"
   ]
  },
  {
   "cell_type": "code",
   "execution_count": 37,
   "id": "bd8ef238",
   "metadata": {},
   "outputs": [
    {
     "data": {
      "text/plain": [
       "<matplotlib.collections.LineCollection at 0x7fac0ed002e0>"
      ]
     },
     "execution_count": 37,
     "metadata": {},
     "output_type": "execute_result"
    },
    {
     "data": {
      "image/png": "[encoded data removed]",
      "text/plain": [
       "<Figure size 720x720 with 1 Axes>"
      ]
     },
     "metadata": {
      "needs_background": "light"
     },
     "output_type": "display_data"
    }
   ],
   "source": [
    "plt.figure(figsize=(10, 10))\n",
    "plt.imshow(data_item['feature_maps'][0], origin='lower', cmap='binary', alpha=0.7)\n",
    "plt.imshow(data_item['feature_maps'][6], origin='lower', cmap='binary', alpha=0.5)\n",
    "plt.imshow(data_item['feature_maps'][13], origin='lower', cmap='binary', alpha=0.2)\n",
    "plt.imshow(data_item['feature_maps'][16], origin='lower', cmap='binary', alpha=0.1)\n",
    "ax = plt.gca()\n",
    "ax.add_collection(mc.LineCollection([transformed_gt], color='green'))"
   ]
  },
  {
   "cell_type": "markdown",
   "id": "da0d19bd",
   "metadata": {},
   "source": [
    "## Prerendered Dataset"
   ]
  },
  {
   "cell_type": "code",
   "execution_count": 38,
   "id": "fe587818",
   "metadata": {},
   "outputs": [
    {
     "name": "stdout",
     "output_type": "stream",
     "text": [
      "500000/500000 scenes fit the filter criteria.\n"
     ]
    }
   ],
   "source": [
    "# We use raw protobuf dataset here to extract ground truth trajectories\n",
    "prerenderer_dataset = MotionPredictionDataset(\n",
    "    dataset_path='/path/to/datasets/train_pb/',\n",
    "    scene_tags_fpath='/path/to/datasets/train_tags.txt',\n",
    "    prerendered_dataset_path='/path/to/datasets/train_rendered/',\n",
    ")"
   ]
  },
  {
   "cell_type": "code",
   "execution_count": 39,
   "id": "ed304927",
   "metadata": {},
   "outputs": [],
   "source": [
    "dataset_iter = iter(prerenderer_dataset)"
   ]
  },
  {
   "cell_type": "code",
   "execution_count": 40,
   "id": "2d322c80",
   "metadata": {},
   "outputs": [],
   "source": [
    "for i in range(10):\n",
    "    item = next(dataset_iter)"
   ]
  },
  {
   "cell_type": "code",
   "execution_count": 41,
   "id": "e27f02fc",
   "metadata": {},
   "outputs": [
    {
     "data": {
      "text/plain": [
       "<matplotlib.image.AxesImage at 0x7fac0f008100>"
      ]
     },
     "execution_count": 41,
     "metadata": {},
     "output_type": "execute_result"
    },
    {
     "data": {
      "image/png": "[encoded data removed]",
      "text/plain": [
       "<Figure size 720x720 with 1 Axes>"
      ]
     },
     "metadata": {
      "needs_background": "light"
     },
     "output_type": "display_data"
    }
   ],
   "source": [
    "plt.figure(figsize=(10, 10))\n",
    "plt.imshow(item['prerendered_feature_map'][0], origin='lower', cmap='binary', alpha=0.7)\n",
    "plt.imshow(item['prerendered_feature_map'][6], origin='lower', cmap='binary', alpha=0.5)\n",
    "plt.imshow(item['prerendered_feature_map'][13], origin='lower', cmap='binary', alpha=0.2)\n",
    "plt.imshow(item['prerendered_feature_map'][16], origin='lower', cmap='binary', alpha=0.1)"
   ]
  },
  {
   "cell_type": "markdown",
   "id": "3d457ecd",
   "metadata": {},
   "source": [
    "## Model Evaluation"
   ]
  },
  {
   "cell_type": "code",
   "execution_count": 43,
   "id": "28df53a4",
   "metadata": {},
   "outputs": [],
   "source": [
    "# We will evaluate on the two validation datasets:\n",
    "# In-Domain (Moscow)\n",
    "# OOD\n",
    "\n",
    "def filter_moscow_no_precipitation_data(scene_tags_dict):\n",
    "    if (scene_tags_dict['track'] == 'Moscow' and\n",
    "            scene_tags_dict['precipitation'] == 'kNoPrecipitation'):\n",
    "        return True\n",
    "    else:\n",
    "        return False\n",
    "\n",
    "def filter_ood_validation_data(scene_tags_dict):\n",
    "    if (scene_tags_dict['track'] in ['Skolkovo', 'Modiin', 'Innopolis'] and\n",
    "        scene_tags_dict[\n",
    "            'precipitation'] in ['kNoPrecipitation', 'kRain', 'kSnow']):\n",
    "        return True\n",
    "    else:\n",
    "        return False"
   ]
  },
  {
   "cell_type": "code",
   "execution_count": 45,
   "id": "b2cd8578",
   "metadata": {},
   "outputs": [
    {
     "name": "stdout",
     "output_type": "stream",
     "text": [
      "27036/50000 scenes fit the filter criteria.\n",
      "9569/50000 scenes fit the filter criteria.\n"
     ]
    }
   ],
   "source": [
    "# Load in validation datasets\n",
    "# We provide both the pre-rendered dataset paths and protobuf paths, \n",
    "# to speed up dataloading.\n",
    "\n",
    "moscow_validation_dataset = MotionPredictionDataset(\n",
    "    dataset_path='/path/to/datasets/validation_pb/',\n",
    "    prerendered_dataset_path='/path/to/datasets/validation_rendered/',\n",
    "    scene_tags_fpath='/path/to/datasets/validation_tags.txt',\n",
    "    scene_tags_filter=filter_moscow_no_precipitation_data,\n",
    ")\n",
    "\n",
    "ood_validation_dataset = MotionPredictionDataset(\n",
    "    dataset_path='/path/to/datasets/validation_pb/',\n",
    "    prerendered_dataset_path='/path/to/datasets/validation_rendered/',\n",
    "    scene_tags_fpath='/path/to/datasets/validation_tags.txt',\n",
    "    scene_tags_filter=filter_ood_validation_data,\n",
    ")"
   ]
  },
  {
   "cell_type": "code",
   "execution_count": 46,
   "id": "8647dcd8",
   "metadata": {},
   "outputs": [],
   "source": [
    "from sdc.config import build_parser\n",
    "\n",
    "parser = build_parser()\n",
    "args = parser.parse_args('')\n",
    "\n",
    "def ipynb_patch_args(args):\n",
    "    args.dir_checkpoint = '/path/to/model_checkpoints'\n",
    "\n",
    "    # Backbone model details\n",
    "    # Behavioral Cloning: \n",
    "    # MobileNetv2 feature encoder, GRU decoder\n",
    "    args.model_name = 'dim'\n",
    "    args.model_dim_hidden = 512\n",
    "    args.exp_device = 'cuda:0'\n",
    "    \n",
    "    # Used in scoring generated trajectories and obtaining \n",
    "    # per-plan/per-scene confidence scores.\n",
    "    # See \n",
    "    #   `sdc.oatomobile.torch.baselines.robust_imitative_planning.py` \n",
    "    # for details.\n",
    "    args.rip_per_plan_algorithm = 'LQ'\n",
    "    args.rip_per_scene_algorithm = 'LQ'\n",
    "    \n",
    "    # Number of ensemble members\n",
    "    args.rip_k = 3\n",
    "    \n",
    "    # Data loading\n",
    "    # https://pytorch.org/docs/stable/data.html\n",
    "    args.exp_batch_size = 16\n",
    "    args.data_num_workers = 4\n",
    "    args.data_prefetch_factor = 2\n",
    "\n",
    "    return args\n",
    "\n",
    "c = ipynb_patch_args(args)"
   ]
  },
  {
   "cell_type": "code",
   "execution_count": 47,
   "id": "129e482d",
   "metadata": {
    "scrolled": true
   },
   "outputs": [
    {
     "name": "stdout",
     "output_type": "stream",
     "text": [
      "RIP kwargs:\n",
      "{'device': 'cuda:0',\n",
      " 'k': 2,\n",
      " 'model_name': 'dim',\n",
      " 'num_preds': 5,\n",
      " 'per_plan_algorithm': 'LQ',\n",
      " 'per_scene_algorithm': 'LQ',\n",
      " 'samples_per_model': 10}\n",
      "Building RIP agent with backbone model dim, per-plan algorithm LQ, per-scene algorithm LQ, 2 ensemble members.\n",
      "Model kwargs:\n",
      "{'device': 'cuda:0',\n",
      " 'dim_hidden': 512,\n",
      " 'grad_ascent': False,\n",
      " 'in_channels': 17,\n",
      " 'output_shape': (25, 2),\n",
      " 'scale_eps': 1e-07}\n"
     ]
    },
    {
     "name": "stderr",
     "output_type": "stream",
     "text": [
      "Using cache found in /datadrive/sdc/model_checkpoints_jun21/torch_hub/pytorch_vision_v0.9.0\n"
     ]
    },
    {
     "name": "stdout",
     "output_type": "stream",
     "text": [
      "Model kwargs:\n",
      "{'device': 'cuda:0',\n",
      " 'dim_hidden': 512,\n",
      " 'grad_ascent': False,\n",
      " 'in_channels': 17,\n",
      " 'output_shape': (25, 2),\n",
      " 'scale_eps': 1e-07}\n",
      "Loaded ensemble member 1 from path /datadrive/sdc/model_checkpoints_jun21/rip-dim-k_2-plan_lq-scene_lq/model-seed-44-epoch-60.pt\n"
     ]
    },
    {
     "name": "stderr",
     "output_type": "stream",
     "text": [
      "Using cache found in /datadrive/sdc/model_checkpoints_jun21/torch_hub/pytorch_vision_v0.9.0\n"
     ]
    },
    {
     "name": "stdout",
     "output_type": "stream",
     "text": [
      "Loaded ensemble member 2 from path /datadrive/sdc/model_checkpoints_jun21/rip-dim-k_2-plan_lq-scene_lq/model-seed-45-epoch-67.pt\n",
      "Successfully loaded all 2 ensemble members.\n"
     ]
    }
   ],
   "source": [
    "from sdc.oatomobile.torch.baselines import init_rip\n",
    "from sdc.oatomobile.torch.baselines.robust_imitative_planning import \\\n",
    "    load_rip_checkpoints\n",
    "from typing import Mapping\n",
    "\n",
    "\n",
    "class Model:\n",
    "    def __init__(self, c):\n",
    "        self.c = c\n",
    "    \n",
    "        # Initialize torch hub dir to cache MobileNetV2\n",
    "        torch.hub.set_dir(f'{c.dir_checkpoint}/torch_hub')\n",
    "        \n",
    "    def load(self):\n",
    "        model, full_model_name, _, _ = init_rip(c=self.c)\n",
    "        checkpoint_dir = f'{c.dir_checkpoint}/{full_model_name}'\n",
    "        self.model = load_rip_checkpoints(\n",
    "            model=model, device=c.exp_device, k=c.rip_k,\n",
    "            checkpoint_dir=checkpoint_dir)\n",
    "        \n",
    "    \n",
    "    def predict(self, batch: Mapping[str, torch.Tensor]):\n",
    "        \"\"\"\n",
    "        Args:\n",
    "            batch: Mapping[str, torch.Tensor], with 'feature_maps' key/value\n",
    "\n",
    "        Returns:\n",
    "            Sequence of dicts. Each has the following structure:\n",
    "                {\n",
    "                    predictions_list: Sequence[np.ndarray],\n",
    "                    plan_confidence_scores_list: Sequence[np.ndarray],\n",
    "                    pred_request_confidence_score: float,\n",
    "                }\n",
    "        \"\"\"\n",
    "        self.model.eval()\n",
    "        predictions, plan_confidence_scores, pred_request_confidence_scores = (\n",
    "            self.model(**batch))\n",
    "        predictions = predictions.detach().cpu().numpy()\n",
    "        plan_confidence_scores = plan_confidence_scores.detach().cpu().numpy()\n",
    "        pred_request_confidence_scores = pred_request_confidence_scores.detach().cpu().numpy()\n",
    "        return [\n",
    "            {\n",
    "                'predictions_list': predictions[i],\n",
    "                'plan_confidence_scores_list': plan_confidence_scores[i],\n",
    "                'pred_request_confidence_score':\n",
    "                    pred_request_confidence_scores[i]\n",
    "            } for i in range(predictions.shape[0])]\n",
    "\n",
    "# Initialize and load ensemble of k models from checkpoints\n",
    "# On first run, will fail and create a directory where checkpoints\n",
    "# should be placed.\n",
    "model = Model(c=c)\n",
    "model.load()"
   ]
  },
  {
   "cell_type": "code",
   "execution_count": 48,
   "id": "c8771eb9",
   "metadata": {},
   "outputs": [
    {
     "name": "stdout",
     "output_type": "stream",
     "text": [
      "Building dataloaders with kwargs {'batch_size': 16, 'num_workers': 4, 'prefetch_factor': 2, 'pin_memory': True}.\n"
     ]
    }
   ],
   "source": [
    "# Init dataloader\n",
    "dataloader_kwargs = {\n",
    "    'batch_size': c.exp_batch_size,\n",
    "    'num_workers': c.data_num_workers,\n",
    "    'prefetch_factor': c.data_prefetch_factor,\n",
    "    'pin_memory': True\n",
    "}\n",
    "\n",
    "print(f'Building dataloaders with kwargs {dataloader_kwargs}.')\n",
    "moscow_validation_dataloader = torch.utils.data.DataLoader(moscow_validation_dataset, **dataloader_kwargs)\n",
    "ood_validation_dataloader = torch.utils.data.DataLoader(ood_validation_dataset, **dataloader_kwargs)"
   ]
  },
  {
   "cell_type": "code",
   "execution_count": 49,
   "id": "cdc0a9b3",
   "metadata": {},
   "outputs": [],
   "source": [
    "from ysdc_dataset_api.evaluation import Submission, object_prediction_from_model_output, save_submission_proto\n",
    "from sdc.oatomobile.torch.baselines import batch_transform\n",
    "import tqdm.notebook as tqdm\n",
    "from functools import partial"
   ]
  },
  {
   "cell_type": "code",
   "execution_count": 50,
   "id": "75004538",
   "metadata": {},
   "outputs": [
    {
     "data": {
      "application/vnd.jupyter.widget-view+json": {
       "model_id": "c4f6aab6312943648706e0b4fd4cca20",
       "version_major": 2,
       "version_minor": 0
      },
      "text/plain": [
       "0it [00:00, ?it/s]"
      ]
     },
     "metadata": {},
     "output_type": "display_data"
    },
    {
     "name": "stderr",
     "output_type": "stream",
     "text": [
      "/miniconda3/envs/yandex/lib/python3.8/site-packages/torch/distributions/distribution.py:151: UserWarning: sample_n will be deprecated. Use .sample((n,)) instead\n",
      "  warnings.warn('sample_n will be deprecated. Use .sample((n,)) instead', UserWarning)\n"
     ]
    },
    {
     "data": {
      "application/vnd.jupyter.widget-view+json": {
       "model_id": "ec58aa7559ca4292af1c2008f15f9e4b",
       "version_major": 2,
       "version_minor": 0
      },
      "text/plain": [
       "0it [00:00, ?it/s]"
      ]
     },
     "metadata": {},
     "output_type": "display_data"
    }
   ],
   "source": [
    "submission = Submission()\n",
    "\n",
    "batch_cast = partial(\n",
    "    batch_transform, device=c.exp_device, downsample_hw=None,\n",
    "    data_use_prerendered=True)\n",
    "\n",
    "for dataloader in [ood_validation_dataloader, moscow_validation_dataloader]:\n",
    "    for batch_id, batch in enumerate(tqdm.tqdm(dataloader)):        \n",
    "        batch = batch_cast(batch)\n",
    "        batch_output = model.predict(batch)\n",
    "\n",
    "        for i, data_item_output in enumerate(batch_output):\n",
    "            proto = object_prediction_from_model_output(\n",
    "                track_id=batch['track_id'][i],\n",
    "                scene_id=batch['scene_id'][i],\n",
    "                model_output=data_item_output)\n",
    "\n",
    "            submission.predictions.append(proto)"
   ]
  },
  {
   "cell_type": "code",
   "execution_count": 51,
   "id": "325daeb2",
   "metadata": {},
   "outputs": [
    {
     "data": {
      "text/plain": [
       "32"
      ]
     },
     "execution_count": 51,
     "metadata": {},
     "output_type": "execute_result"
    }
   ],
   "source": [
    "len(submission.predictions)  # Should be 465421"
   ]
  },
  {
   "cell_type": "code",
   "execution_count": null,
   "id": "e5813c85",
   "metadata": {},
   "outputs": [],
   "source": [
    "save_submission_proto('dev_moscow_and_ood_submission.pb', submission=submission)"
   ]
  },
  {
   "cell_type": "code",
   "execution_count": null,
   "id": "986409c9",
   "metadata": {
    "pycharm": {
     "name": "#%%\n"
    }
   },
   "outputs": [],
   "source": [
    "# Can check that things were written correctly\n",
    "from ysdc_dataset_api.evaluation.utils import load_submission_proto\n",
    "new_sub = load_submission_proto('dev_moscow_and_ood_submission.pb')\n",
    "len(new_sub.predictions)"
   ]
  }
 ],
 "metadata": {
  "kernelspec": {
   "display_name": "Python 3",
   "language": "python",
   "name": "python3"
  },
  "language_info": {
   "codemirror_mode": {
    "name": "ipython",
    "version": 3
   },
   "file_extension": ".py",
   "mimetype": "text/x-python",
   "name": "python",
   "nbconvert_exporter": "python",
   "pygments_lexer": "ipython3",
   "version": "3.8.10"
  },
  "pycharm": {
   "stem_cell": {
    "cell_type": "raw",
    "source": [],
    "metadata": {
     "collapsed": false
    }
   }
  }
 },
 "nbformat": 4,
 "nbformat_minor": 5
}