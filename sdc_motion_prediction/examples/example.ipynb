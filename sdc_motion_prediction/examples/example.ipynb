{
 "cells": [
  {
   "cell_type": "code",
   "execution_count": 6,
   "metadata": {},
   "outputs": [],
   "source": [
    "import cv2\n",
    "import matplotlib.pyplot as plt\n",
    "import numpy as np\n",
    "import torch\n",
    "from matplotlib import collections as mc\n",
    "\n",
    "from ysdc_dataset_api.dataset import MotionPredictionDataset\n",
    "from ysdc_dataset_api.features import FeatureRenderer\n",
    "from ysdc_dataset_api.utils import get_file_paths, scenes_generator, transform_2d_points"
   ]
  },
  {
   "cell_type": "markdown",
   "metadata": {},
   "source": [
    "## Raw data"
   ]
  },
  {
   "cell_type": "code",
   "execution_count": 2,
   "metadata": {},
   "outputs": [],
   "source": [
    "dataset_path = '/path/to/dataset/train/'\n",
    "filepaths = get_file_paths(dataset_path)"
   ]
  },
  {
   "cell_type": "code",
   "execution_count": 3,
   "metadata": {},
   "outputs": [],
   "source": [
    "scene = next(scenes_generator(filepaths))"
   ]
  },
  {
   "cell_type": "code",
   "execution_count": 4,
   "metadata": {},
   "outputs": [
    {
     "name": "stdout",
     "output_type": "stream",
     "text": [
      "Number of history steps: 25\n"
     ]
    }
   ],
   "source": [
    "# Number of known history steps\n",
    "# Index 0 is farthest (-5s) into the past, and index 24 represents current time\n",
    "print('Number of history steps:', len(scene.past_vehicle_tracks))"
   ]
  },
  {
   "cell_type": "code",
   "execution_count": 5,
   "metadata": {},
   "outputs": [
    {
     "name": "stdout",
     "output_type": "stream",
     "text": [
      "Number of vehicles seen at current time: 1\n",
      "[track_id: 3923\n",
      "position {\n",
      "  x: -2019.9418656865134\n",
      "  y: 1085.4598225149823\n",
      "  z: 0.9818075703291762\n",
      "}\n",
      "dimensions {\n",
      "  x: 4.529175540519738\n",
      "  y: 2.0547066458659815\n",
      "  z: 1.968017719989121\n",
      "}\n",
      "linear_velocity {\n",
      "  x: 9.722125739413503\n",
      "  y: -9.368845936458117\n",
      "}\n",
      "linear_acceleration {\n",
      "  x: -0.2929295908623673\n",
      "  y: 0.6188691794027462\n",
      "}\n",
      "yaw: 2.3747944352334356\n",
      "]\n"
     ]
    }
   ],
   "source": [
    "print('Number of vehicles seen at current time:', len(scene.past_vehicle_tracks[-1].tracks))\n",
    "print(scene.past_vehicle_tracks[-1].tracks)"
   ]
  },
  {
   "cell_type": "code",
   "execution_count": 6,
   "metadata": {},
   "outputs": [
    {
     "name": "stdout",
     "output_type": "stream",
     "text": [
      "Number of pedestrians seen at current time: 0\n",
      "[]\n"
     ]
    }
   ],
   "source": [
    "print('Number of pedestrians seen at current time:', len(scene.past_pedestrian_tracks[-1].tracks))\n",
    "print(scene.past_pedestrian_tracks[-1].tracks)"
   ]
  },
  {
   "cell_type": "code",
   "execution_count": 7,
   "metadata": {},
   "outputs": [
    {
     "name": "stdout",
     "output_type": "stream",
     "text": [
      "Number of vehicles to predict: 1\n",
      "[track_id: 3923\n",
      "trajectory_tags: kUniform\n",
      "trajectory_tags: kMoveForward\n",
      "]\n"
     ]
    }
   ],
   "source": [
    "print('Number of vehicles to predict:', len(scene.prediction_requests))\n",
    "print(scene.prediction_requests)"
   ]
  },
  {
   "cell_type": "code",
   "execution_count": 8,
   "metadata": {},
   "outputs": [
    {
     "name": "stdout",
     "output_type": "stream",
     "text": [
      "Number of future steps to predict: 25\n"
     ]
    }
   ],
   "source": [
    "# Number of future steps\n",
    "# Index 0 is closest (0.2s into the future), index 24 is farthest (5s into the future)\n",
    "print('Number of future steps to predict:', len(scene.future_vehicle_tracks))"
   ]
  },
  {
   "cell_type": "code",
   "execution_count": 9,
   "metadata": {},
   "outputs": [
    {
     "name": "stdout",
     "output_type": "stream",
     "text": [
      "First future state: [track_id: 3923\n",
      "position {\n",
      "  x: -2017.8681271961125\n",
      "  y: 1083.6118504585602\n",
      "  z: 1.0\n",
      "}\n",
      "dimensions {\n",
      "  x: 4.437810497232245\n",
      "  y: 2.002603740226932\n",
      "  z: 2.0\n",
      "}\n",
      "linear_velocity {\n",
      "  x: 10.613095687628794\n",
      "  y: -9.557546072252253\n",
      "}\n",
      "linear_acceleration {\n",
      "  x: 0.5709183894738626\n",
      "  y: -0.3332869578985755\n",
      "}\n",
      "yaw: 2.3381289968105037\n",
      "]\n"
     ]
    }
   ],
   "source": [
    "print('First future state:', scene.future_vehicle_tracks[0].tracks)"
   ]
  },
  {
   "cell_type": "code",
   "execution_count": 10,
   "metadata": {},
   "outputs": [
    {
     "name": "stdout",
     "output_type": "stream",
     "text": [
      "Last future state: [track_id: 3923\n",
      "position {\n",
      "  x: -1968.395917069477\n",
      "  y: 1036.1632503195\n",
      "  z: 0.8644047462812844\n",
      "}\n",
      "dimensions {\n",
      "  x: 4.44663464288366\n",
      "  y: 2.0053597653181865\n",
      "  z: 1.7400477229576077\n",
      "}\n",
      "linear_velocity {\n",
      "  x: 10.495274410037208\n",
      "  y: -10.680511872289703\n",
      "}\n",
      "linear_acceleration {\n",
      "  x: -0.16880430160665374\n",
      "  y: -0.46839964155131236\n",
      "}\n",
      "yaw: -0.7920735653804467\n",
      "]\n"
     ]
    }
   ],
   "source": [
    "print('Last future state:', scene.future_vehicle_tracks[24].tracks)"
   ]
  },
  {
   "cell_type": "markdown",
   "metadata": {},
   "source": [
    "## Basic usage"
   ]
  },
  {
   "cell_type": "code",
   "execution_count": 11,
   "metadata": {},
   "outputs": [],
   "source": [
    "renderer_config = {\n",
    "    # parameters of feature maps to render\n",
    "    'feature_map_params': {\n",
    "        'rows': 400,\n",
    "        'cols': 400,\n",
    "        'resolution': 0.25,  # number of meters in one pixel\n",
    "    },\n",
    "    'renderers_groups': [\n",
    "        # Having several feature map groups\n",
    "        # allows to independently render feature maps with different history length.\n",
    "        # This could be useful to render static features (road graph, etc.) once.\n",
    "        {\n",
    "            # start: int, first timestamp into the past to render, 0 – prediction time\n",
    "            # stop: int, last timestamp to render inclusively, 24 – farthest known point into the past\n",
    "            # step: int, grid step size,\n",
    "            #            step=1 renders all points between start and stop,\n",
    "            #            step=2 renders every second point, etc.\n",
    "            'time_grid_params': {\n",
    "                'start': 0,\n",
    "                'stop': 0,\n",
    "                'step': 1,\n",
    "            },\n",
    "            'renderers': [\n",
    "                # each value is rendered at its own channel\n",
    "                # occupancy -- 1 channel\n",
    "                # velocity -- 2 channels (x, y)\n",
    "                # acceleration -- 2 channels (x, y)\n",
    "                # yaw -- 1 channel\n",
    "                {'vehicles': ['occupancy', 'velocity', 'acceleration', 'yaw']},\n",
    "                # only occupancy and velocity are available for pedestrians\n",
    "                {'pedestrians': ['occupancy', 'velocity']},\n",
    "            ]\n",
    "        },\n",
    "        {\n",
    "            'time_grid_params': {\n",
    "                'start': 0,\n",
    "                'stop': 0,\n",
    "                'step': 1,\n",
    "            },\n",
    "            'renderers': [\n",
    "                {\n",
    "                    'road_graph': [\n",
    "                        'crosswalk_occupancy',\n",
    "                        'crosswalk_availability',\n",
    "                        # 'lane_availability',  # Currently unavailable due to problem in dataset\n",
    "                        'lane_direction',\n",
    "                        'lane_occupancy',\n",
    "                        'lane_priority',\n",
    "                        'lane_speed_limit',\n",
    "                        'road_polygons',\n",
    "                    ]\n",
    "                }\n",
    "            ]\n",
    "        }\n",
    "    ]\n",
    "}"
   ]
  },
  {
   "cell_type": "code",
   "execution_count": 12,
   "metadata": {},
   "outputs": [],
   "source": [
    "# path to dataset dir containing sub directories\n",
    "dataset_path = '/path/to/dataset/train/'\n",
    "# path to file with scene tags\n",
    "scene_tags_fpath = '/path/to/dataset/train_tags_file'"
   ]
  },
  {
   "cell_type": "code",
   "execution_count": 13,
   "metadata": {},
   "outputs": [],
   "source": [
    "renderer = FeatureRenderer(renderer_config)"
   ]
  },
  {
   "cell_type": "code",
   "execution_count": 14,
   "metadata": {},
   "outputs": [
    {
     "data": {
      "text/plain": [
       "array([[  4.,   0.,   0., 200.],\n",
       "       [  0.,   4.,   0., 200.],\n",
       "       [  0.,   0.,   1.,   0.],\n",
       "       [  0.,   0.,   0.,   1.]], dtype=float32)"
      ]
     },
     "execution_count": 14,
     "metadata": {},
     "output_type": "execute_result"
    }
   ],
   "source": [
    "renderer.to_feature_map_tf"
   ]
  },
  {
   "cell_type": "code",
   "execution_count": 15,
   "metadata": {},
   "outputs": [],
   "source": [
    "dataset = MotionPredictionDataset(\n",
    "    dataset_path=dataset_path,\n",
    "    scene_tags_fpath=scene_tags_fpath,\n",
    "    feature_producer=renderer,\n",
    "    transform_ground_truth_to_agent_frame=True,\n",
    ")"
   ]
  },
  {
   "cell_type": "code",
   "execution_count": 16,
   "metadata": {},
   "outputs": [
    {
     "data": {
      "text/plain": [
       "50000"
      ]
     },
     "execution_count": 16,
     "metadata": {},
     "output_type": "execute_result"
    }
   ],
   "source": [
    "# Number of scenes in dataset.\n",
    "# Actual number of objects in dataset is bigger,\n",
    "# since we consider multiple agents in a scene for prediction.\n",
    "dataset.num_scenes"
   ]
  },
  {
   "cell_type": "code",
   "execution_count": 17,
   "metadata": {},
   "outputs": [],
   "source": [
    "dataset_iter = iter(dataset)"
   ]
  },
  {
   "cell_type": "code",
   "execution_count": 18,
   "metadata": {},
   "outputs": [],
   "source": [
    "# Take some scene\n",
    "for i in range(10):\n",
    "    data_item = next(dataset_iter)"
   ]
  },
  {
   "cell_type": "code",
   "execution_count": 19,
   "metadata": {},
   "outputs": [
    {
     "data": {
      "text/plain": [
       "dict_keys(['ground_truth_trajectory', 'feature_maps'])"
      ]
     },
     "execution_count": 19,
     "metadata": {},
     "output_type": "execute_result"
    }
   ],
   "source": [
    "# One data item contains rendered feature maps and ground truth trajectory.\n",
    "# Feature maps are centered around current actor.\n",
    "# Ground truth trajectory is transformed to actor coordinate system:\n",
    "# actor is located at origin (0, 0) headed to positive x direction  at prediction time.\n",
    "data_item.keys()"
   ]
  },
  {
   "cell_type": "code",
   "execution_count": 20,
   "metadata": {},
   "outputs": [
    {
     "data": {
      "text/plain": [
       "(16, 400, 400)"
      ]
     },
     "execution_count": 20,
     "metadata": {},
     "output_type": "execute_result"
    }
   ],
   "source": [
    "# Feature maps are in channels first format\n",
    "data_item['feature_maps'].shape"
   ]
  },
  {
   "cell_type": "code",
   "execution_count": 21,
   "metadata": {},
   "outputs": [
    {
     "data": {
      "text/plain": [
       "<matplotlib.image.AxesImage at 0x14baa4130>"
      ]
     },
     "execution_count": 21,
     "metadata": {},
     "output_type": "execute_result"
    },
    {
     "data": {
      "image/png": "[encoded data removed]",
      "text/plain": [
       "<Figure size 720x720 with 1 Axes>"
      ]
     },
     "metadata": {
      "needs_background": "light"
     },
     "output_type": "display_data"
    }
   ],
   "source": [
    "# Plot vehicles occupancy, pedestrian occupancy, lane occupancy and road polygon\n",
    "plt.figure(figsize=(10, 10))\n",
    "plt.imshow(data_item['feature_maps'][0], origin='lower', cmap='binary', alpha=0.7)\n",
    "plt.imshow(data_item['feature_maps'][6], origin='lower', cmap='binary', alpha=0.5)\n",
    "plt.imshow(data_item['feature_maps'][12], origin='lower', cmap='binary', alpha=0.2)\n",
    "plt.imshow(data_item['feature_maps'][15], origin='lower', cmap='binary', alpha=0.1)"
   ]
  },
  {
   "cell_type": "markdown",
   "metadata": {},
   "source": [
    "## Filtration by tags"
   ]
  },
  {
   "cell_type": "code",
   "execution_count": 22,
   "metadata": {},
   "outputs": [],
   "source": [
    "# To filter scenes by tags one should specify a filter function\n",
    "# Scene tags dict has following structure:\n",
    "# {\n",
    "#     'day_time': one of {'kNight', 'kMorning', 'kAfternoon', 'kEvening'}\n",
    "#     'season': one of {'kWinter', 'kSpring', 'kSummer', 'kAutumn'}\n",
    "#     'track': one of {'Moscow' , 'Skolkovo', 'Innopolis', 'AnnArbor', 'Modiin', 'TelAviv'}\n",
    "#     'sun_phase': one of {'kAstronomicalNight', 'kTwilight', 'kDaylight'}\n",
    "#     'precipitation': one of {'kNoPrecipitation', 'kRain', 'kSleet', 'kSnow'}\n",
    "# }\n",
    "# Full description of protobuf message is available at tags.proto file in sources\n",
    "\n",
    "\n",
    "def filter_scene(scene_tags_dict):\n",
    "    if scene_tags_dict['track'] == 'AnnArbor' and scene_tags_dict['precipitation'] == 'kRain':\n",
    "        return True\n",
    "    else:\n",
    "        return False"
   ]
  },
  {
   "cell_type": "code",
   "execution_count": 23,
   "metadata": {},
   "outputs": [],
   "source": [
    "# Trajectory tags list can include any number of the following non-mutually exclusive tags.\n",
    "# [\n",
    "#     'kMoveLeft', 'kMoveRight', 'kMoveForward', 'kMoveBack',\n",
    "#     'kAcceleration', 'kDeceleration', 'kUniform',\n",
    "#     'kStopping', 'kStarting', 'kStationary'\n",
    "# ]\n",
    "\n",
    "\n",
    "def filter_trajectory(trajectory_tags_list):\n",
    "    if 'kMoveRight' in trajectory_tags_list:\n",
    "        return True\n",
    "    else:\n",
    "        return False"
   ]
  },
  {
   "cell_type": "code",
   "execution_count": 24,
   "metadata": {},
   "outputs": [],
   "source": [
    "# Let's try to filter scenes\n",
    "\n",
    "dataset = MotionPredictionDataset(\n",
    "    dataset_path=dataset_path,\n",
    "    scene_tags_fpath=scene_tags_fpath,\n",
    "    feature_producer=renderer,\n",
    "    transform_ground_truth_to_agent_frame=True,\n",
    "    scene_tags_filter=filter_scene,\n",
    "    trajectory_tags_filter=filter_trajectory,\n",
    ")"
   ]
  },
  {
   "cell_type": "code",
   "execution_count": 25,
   "metadata": {},
   "outputs": [
    {
     "data": {
      "text/plain": [
       "364"
      ]
     },
     "execution_count": 25,
     "metadata": {},
     "output_type": "execute_result"
    }
   ],
   "source": [
    "# Rainy Ann-Arbor is pretty rare occasion\n",
    "dataset.num_scenes"
   ]
  },
  {
   "cell_type": "code",
   "execution_count": 26,
   "metadata": {},
   "outputs": [],
   "source": [
    "dataset_iter = iter(dataset)"
   ]
  },
  {
   "cell_type": "code",
   "execution_count": 27,
   "metadata": {},
   "outputs": [],
   "source": [
    "for i in range(10):\n",
    "    data_item = next(dataset_iter)"
   ]
  },
  {
   "cell_type": "code",
   "execution_count": 28,
   "metadata": {},
   "outputs": [],
   "source": [
    "transformed_gt = transform2dpoints(data_item['ground_truth_trajectory'], renderer.to_feature_map_tf)\n",
    "transformed_gt = np.round(transformed_gt - 0.5).astype(np.int32)"
   ]
  },
  {
   "cell_type": "code",
   "execution_count": 29,
   "metadata": {},
   "outputs": [
    {
     "data": {
      "text/plain": [
       "<matplotlib.collections.LineCollection at 0x14b9a8ee0>"
      ]
     },
     "execution_count": 29,
     "metadata": {},
     "output_type": "execute_result"
    },
    {
     "data": {
      "image/png": "[encoded data removed]",
      "text/plain": [
       "<Figure size 720x720 with 1 Axes>"
      ]
     },
     "metadata": {
      "needs_background": "light"
     },
     "output_type": "display_data"
    }
   ],
   "source": [
    "# Looks like car is moving right\n",
    "plt.figure(figsize=(10, 10))\n",
    "plt.imshow(data_item['feature_maps'][0], origin='lower', cmap='binary', alpha=0.7)\n",
    "plt.imshow(data_item['feature_maps'][6], origin='lower', cmap='binary', alpha=0.5)\n",
    "plt.imshow(data_item['feature_maps'][12], origin='lower', cmap='binary', alpha=0.2)\n",
    "plt.imshow(data_item['feature_maps'][15], origin='lower', cmap='binary', alpha=0.1)\n",
    "ax = plt.gca()\n",
    "ax.add_collection(mc.LineCollection([transformed_gt], color='green'))"
   ]
  },
  {
   "cell_type": "markdown",
   "metadata": {},
   "source": [
    "## Prerendered dataset"
   ]
  },
  {
   "cell_type": "code",
   "execution_count": 36,
   "metadata": {},
   "outputs": [],
   "source": [
    "# We use raw protobuf dataset here to extract ground truth trajectories\n",
    "prerenderer_dataset = MotionPredictionDataset(\n",
    "    dataset_path='/path/to/dataset/train/',\n",
    "    scene_tags_fpath='/path/to/dataset/train_tags_file',\n",
    "    prerendered_dataset_path='/path/to/pre_rendered_dataset/train/',\n",
    ")"
   ]
  },
  {
   "cell_type": "code",
   "execution_count": 37,
   "metadata": {},
   "outputs": [],
   "source": [
    "dataset_iter = iter(prerenderer_dataset)"
   ]
  },
  {
   "cell_type": "code",
   "execution_count": 39,
   "metadata": {},
   "outputs": [],
   "source": [
    "for i in range(10):\n",
    "    item = next(dataset_iter)"
   ]
  },
  {
   "cell_type": "code",
   "execution_count": 40,
   "metadata": {},
   "outputs": [
    {
     "data": {
      "text/plain": [
       "<matplotlib.image.AxesImage at 0x14b7095b0>"
      ]
     },
     "execution_count": 40,
     "metadata": {},
     "output_type": "execute_result"
    },
    {
     "data": {
      "image/png": "[encoded data removed]",
      "text/plain": [
       "<Figure size 720x720 with 1 Axes>"
      ]
     },
     "metadata": {
      "needs_background": "light"
     },
     "output_type": "display_data"
    }
   ],
   "source": [
    "plt.figure(figsize=(10, 10))\n",
    "plt.imshow(item['prerendered_feature_map'][0], origin='lower', cmap='binary', alpha=0.7)\n",
    "plt.imshow(item['prerendered_feature_map'][6], origin='lower', cmap='binary', alpha=0.5)\n",
    "plt.imshow(item['prerendered_feature_map'][13], origin='lower', cmap='binary', alpha=0.2)\n",
    "plt.imshow(item['prerendered_feature_map'][16], origin='lower', cmap='binary', alpha=0.1)"
   ]
  },
  {
   "cell_type": "markdown",
   "metadata": {},
   "source": [
    "## Model evluation"
   ]
  },
  {
   "cell_type": "code",
   "execution_count": 7,
   "metadata": {},
   "outputs": [],
   "source": [
    "def filter_ood_validation_data(scene_tags_dict):\n",
    "    if (scene_tags_dict['track'] in ['Skolkovo', 'Modiin', 'TelAviv'] and\n",
    "        scene_tags_dict[\n",
    "            'precipitation'] in ['kNoPrecipitation', 'kRain', 'kSnow']):\n",
    "        return True\n",
    "    else:\n",
    "        return False"
   ]
  },
  {
   "cell_type": "code",
   "execution_count": 8,
   "metadata": {},
   "outputs": [],
   "source": [
    "ood_validation_dataset = MotionPredictionDataset(\n",
    "    dataset_path='/path/to/nips_dataset/validation/',\n",
    "    scene_tags_fpath='/path/to/nips_dataset/validation_scene_tags_with_prec.txt',\n",
    "    scene_tags_filter=filter_ood_validation_data,\n",
    ")"
   ]
  },
  {
   "cell_type": "code",
   "execution_count": 9,
   "metadata": {},
   "outputs": [
    {
     "data": {
      "text/plain": [
       "6023"
      ]
     },
     "execution_count": 9,
     "metadata": {},
     "output_type": "execute_result"
    }
   ],
   "source": [
    "ood_validation_dataset.num_scenes"
   ]
  },
  {
   "cell_type": "code",
   "execution_count": 10,
   "metadata": {},
   "outputs": [],
   "source": [
    "class Model:\n",
    "    def load(self, path):\n",
    "        pass\n",
    "    def predict(self, data_item):\n",
    "        \"\"\"Returns dict of the following structure:\n",
    "            {\n",
    "                predictions_list: Sequence[np.ndarray],\n",
    "                plan_confidence_scores_list: Sequence[np.ndarray],\n",
    "                pred_request_confidence_score: float,\n",
    "            }\n",
    "        \"\"\"\n",
    "        pass\n",
    "\n",
    "model = Model()\n",
    "model.load('/path/to/model')"
   ]
  },
  {
   "cell_type": "code",
   "execution_count": 1,
   "metadata": {},
   "outputs": [],
   "source": [
    "from ysdc_dataset_api.evaluation import Submission, object_prediction_from_model_output, save_submission_proto"
   ]
  },
  {
   "cell_type": "code",
   "execution_count": null,
   "metadata": {},
   "outputs": [],
   "source": [
    "submission = Submission()\n",
    "\n",
    "for data_item in iter(ood_validation_dataset):\n",
    "    model_output = model.predict(data_item)\n",
    "    is_ood = filter_ood_validation_data(data_item['scene_tags'])\n",
    "    submission.predictions.append(\n",
    "        object_prediction_from_model_output(\n",
    "            track_id=data_item['track_id'],\n",
    "            scene_id=data_item['scene_id'],\n",
    "            model_output=model_output,\n",
    "        )\n",
    "    )"
   ]
  },
  {
   "cell_type": "code",
   "execution_count": null,
   "metadata": {},
   "outputs": [],
   "source": [
    "save_submission_proto('/path/to/submission.pb', submission=submission)"
   ]
  }
 ],
 "metadata": {
  "kernelspec": {
   "display_name": "Python 3",
   "language": "python",
   "name": "python3"
  },
  "language_info": {
   "codemirror_mode": {
    "name": "ipython",
    "version": 3
   },
   "file_extension": ".py",
   "mimetype": "text/x-python",
   "name": "python",
   "nbconvert_exporter": "python",
   "pygments_lexer": "ipython3",
   "version": "3.9.5"
  }
 },
 "nbformat": 4,
 "nbformat_minor": 5
}